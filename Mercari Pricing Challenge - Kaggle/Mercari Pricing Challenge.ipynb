{
 "cells": [
  {
   "cell_type": "markdown",
   "metadata": {},
   "source": [
    "# Part 1: Define the Problem"
   ]
  },
  {
   "cell_type": "markdown",
   "metadata": {},
   "source": [
    "Predict Product Pricing for products sold on Mercari Website."
   ]
  },
  {
   "cell_type": "markdown",
   "metadata": {},
   "source": [
    "## Import Packages"
   ]
  },
  {
   "cell_type": "code",
   "execution_count": 1,
   "metadata": {
    "collapsed": true
   },
   "outputs": [],
   "source": [
    "import pandas as pd\n",
    "import numpy as np\n",
    "import matplotlib.pyplot as plt\n",
    "import seaborn as sns\n",
    "import gc\n",
    "from string import punctuation"
   ]
  },
  {
   "cell_type": "markdown",
   "metadata": {},
   "source": [
    "## Setup"
   ]
  },
  {
   "cell_type": "code",
   "execution_count": 2,
   "metadata": {
    "collapsed": true
   },
   "outputs": [],
   "source": [
    "pd.set_option('display.float_format', lambda x: '%.4f' % x)\n",
    "sns.set()\n",
    "sns.set(palette=\"muted\", color_codes=True)"
   ]
  },
  {
   "cell_type": "markdown",
   "metadata": {},
   "source": [
    "# Import the data"
   ]
  },
  {
   "cell_type": "code",
   "execution_count": 3,
   "metadata": {
    "collapsed": false
   },
   "outputs": [
    {
     "data": {
      "text/html": [
       "<div>\n",
       "<style scoped>\n",
       "    .dataframe tbody tr th:only-of-type {\n",
       "        vertical-align: middle;\n",
       "    }\n",
       "\n",
       "    .dataframe tbody tr th {\n",
       "        vertical-align: top;\n",
       "    }\n",
       "\n",
       "    .dataframe thead th {\n",
       "        text-align: right;\n",
       "    }\n",
       "</style>\n",
       "<table border=\"1\" class=\"dataframe\">\n",
       "  <thead>\n",
       "    <tr style=\"text-align: right;\">\n",
       "      <th></th>\n",
       "      <th>train_id</th>\n",
       "      <th>name</th>\n",
       "      <th>item_condition_id</th>\n",
       "      <th>category_name</th>\n",
       "      <th>brand_name</th>\n",
       "      <th>price</th>\n",
       "      <th>shipping</th>\n",
       "      <th>item_description</th>\n",
       "    </tr>\n",
       "  </thead>\n",
       "  <tbody>\n",
       "    <tr>\n",
       "      <th>0</th>\n",
       "      <td>0</td>\n",
       "      <td>MLB Cincinnati Reds T Shirt Size XL</td>\n",
       "      <td>3</td>\n",
       "      <td>Men/Tops/T-shirts</td>\n",
       "      <td>NaN</td>\n",
       "      <td>10.0000</td>\n",
       "      <td>1</td>\n",
       "      <td>No description yet</td>\n",
       "    </tr>\n",
       "    <tr>\n",
       "      <th>1</th>\n",
       "      <td>1</td>\n",
       "      <td>Razer BlackWidow Chroma Keyboard</td>\n",
       "      <td>3</td>\n",
       "      <td>Electronics/Computers &amp; Tablets/Components &amp; P...</td>\n",
       "      <td>Razer</td>\n",
       "      <td>52.0000</td>\n",
       "      <td>0</td>\n",
       "      <td>This keyboard is in great condition and works ...</td>\n",
       "    </tr>\n",
       "    <tr>\n",
       "      <th>2</th>\n",
       "      <td>2</td>\n",
       "      <td>AVA-VIV Blouse</td>\n",
       "      <td>1</td>\n",
       "      <td>Women/Tops &amp; Blouses/Blouse</td>\n",
       "      <td>Target</td>\n",
       "      <td>10.0000</td>\n",
       "      <td>1</td>\n",
       "      <td>Adorable top with a hint of lace and a key hol...</td>\n",
       "    </tr>\n",
       "    <tr>\n",
       "      <th>3</th>\n",
       "      <td>3</td>\n",
       "      <td>Leather Horse Statues</td>\n",
       "      <td>1</td>\n",
       "      <td>Home/Home Décor/Home Décor Accents</td>\n",
       "      <td>NaN</td>\n",
       "      <td>35.0000</td>\n",
       "      <td>1</td>\n",
       "      <td>New with tags. Leather horses. Retail for [rm]...</td>\n",
       "    </tr>\n",
       "    <tr>\n",
       "      <th>4</th>\n",
       "      <td>4</td>\n",
       "      <td>24K GOLD plated rose</td>\n",
       "      <td>1</td>\n",
       "      <td>Women/Jewelry/Necklaces</td>\n",
       "      <td>NaN</td>\n",
       "      <td>44.0000</td>\n",
       "      <td>0</td>\n",
       "      <td>Complete with certificate of authenticity</td>\n",
       "    </tr>\n",
       "  </tbody>\n",
       "</table>\n",
       "</div>"
      ],
      "text/plain": [
       "   train_id                                 name  item_condition_id  \\\n",
       "0         0  MLB Cincinnati Reds T Shirt Size XL                  3   \n",
       "1         1     Razer BlackWidow Chroma Keyboard                  3   \n",
       "2         2                       AVA-VIV Blouse                  1   \n",
       "3         3                Leather Horse Statues                  1   \n",
       "4         4                 24K GOLD plated rose                  1   \n",
       "\n",
       "                                       category_name brand_name   price  \\\n",
       "0                                  Men/Tops/T-shirts        NaN 10.0000   \n",
       "1  Electronics/Computers & Tablets/Components & P...      Razer 52.0000   \n",
       "2                        Women/Tops & Blouses/Blouse     Target 10.0000   \n",
       "3                 Home/Home Décor/Home Décor Accents        NaN 35.0000   \n",
       "4                            Women/Jewelry/Necklaces        NaN 44.0000   \n",
       "\n",
       "   shipping                                   item_description  \n",
       "0         1                                 No description yet  \n",
       "1         0  This keyboard is in great condition and works ...  \n",
       "2         1  Adorable top with a hint of lace and a key hol...  \n",
       "3         1  New with tags. Leather horses. Retail for [rm]...  \n",
       "4         0          Complete with certificate of authenticity  "
      ]
     },
     "execution_count": 3,
     "metadata": {},
     "output_type": "execute_result"
    }
   ],
   "source": [
    "# Create the training data\n",
    "train = pd.read_csv('mercari/data/train.tsv', sep='\\t')\n",
    "train.head()"
   ]
  },
  {
   "cell_type": "code",
   "execution_count": 4,
   "metadata": {
    "collapsed": true
   },
   "outputs": [],
   "source": [
    "# Create test set\n",
    "test = pd.read_csv('mercari/data/test.tsv', sep='\\t', engine='python')"
   ]
  },
  {
   "cell_type": "code",
   "execution_count": 5,
   "metadata": {
    "collapsed": true
   },
   "outputs": [],
   "source": [
    "# Create log price variable (Transformation)\n",
    "y = np.log1p(train['price'])"
   ]
  },
  {
   "cell_type": "code",
   "execution_count": 6,
   "metadata": {
    "collapsed": false
   },
   "outputs": [
    {
     "name": "stderr",
     "output_type": "stream",
     "text": [
      "/Users/sshivakumar2/anaconda3/lib/python3.6/site-packages/ipykernel_launcher.py:2: FutureWarning: Sorting because non-concatenation axis is not aligned. A future version\n",
      "of pandas will change to not sort by default.\n",
      "\n",
      "To accept the future behavior, pass 'sort=True'.\n",
      "\n",
      "To retain the current behavior and silence the warning, pass sort=False\n",
      "\n",
      "  \n"
     ]
    }
   ],
   "source": [
    "# Create combined data set\n",
    "combined = pd.concat([train, test])\n",
    "# Create the submission set \n",
    "submission = test[['test_id']]\n",
    "\n",
    "# Create size of train\n",
    "train_size = len(train)"
   ]
  },
  {
   "cell_type": "code",
   "execution_count": 7,
   "metadata": {
    "collapsed": false
   },
   "outputs": [
    {
     "data": {
      "text/plain": [
       "(2175894, 9)"
      ]
     },
     "execution_count": 7,
     "metadata": {},
     "output_type": "execute_result"
    }
   ],
   "source": [
    "combined.shape"
   ]
  },
  {
   "cell_type": "code",
   "execution_count": 8,
   "metadata": {
    "collapsed": true
   },
   "outputs": [],
   "source": [
    "combined_ML = combined.sample(frac=0.1).reset_index(drop=True)"
   ]
  },
  {
   "cell_type": "code",
   "execution_count": 9,
   "metadata": {
    "collapsed": false
   },
   "outputs": [
    {
     "data": {
      "text/plain": [
       "(217589, 9)"
      ]
     },
     "execution_count": 9,
     "metadata": {},
     "output_type": "execute_result"
    }
   ],
   "source": [
    "combined_ML.shape"
   ]
  },
  {
   "cell_type": "markdown",
   "metadata": {},
   "source": [
    "# Part 2: Data Cleaning"
   ]
  },
  {
   "cell_type": "code",
   "execution_count": 10,
   "metadata": {
    "collapsed": true
   },
   "outputs": [],
   "source": [
    "# remove punctuation and digits\n",
    "import string\n",
    "\n",
    "train.item_description = train.item_description.str.replace(r'[' +string.punctuation + ',0-9+]', '', regex=True)\n",
    "train.name = train.name.str.replace(r'[' +string.punctuation + ',0-9+]', '', regex=True)\n",
    "\n",
    "test.item_description = test.item_description.str.replace(r'[' +string.punctuation + ',0-9+]', '', regex=True)\n",
    "test.name = test.name.str.replace(r'[' +string.punctuation + ',0-9+]', '', regex=True)\n",
    "\n",
    "combined_ML.item_description = combined_ML.item_description.str.replace(r'[' +string.punctuation + ',0-9+]', '', regex=True)\n",
    "combined_ML.name = combined_ML.name.str.replace(r'[' +string.punctuation + ',0-9+]', '', regex=True)\n",
    "\n",
    "combined.item_description = combined.item_description.str.replace(r'[' +string.punctuation + ',0-9+]', '', regex=True)\n",
    "combined.name = combined.name.str.replace(r'[' +string.punctuation + ',0-9+]', '', regex=True)"
   ]
  },
  {
   "cell_type": "code",
   "execution_count": 11,
   "metadata": {
    "collapsed": true
   },
   "outputs": [],
   "source": [
    "# Lowercase the words\n",
    "\n",
    "train.item_description = train.item_description.str.lower()\n",
    "train.name = train.name.str.lower()\n",
    "train.category_name = train.category_name.str.lower()\n",
    "train.brand_name = train.brand_name.str.lower()\n",
    "\n",
    "test.item_description = test.item_description.str.lower()\n",
    "test.name = test.name.str.lower()\n",
    "test.category_name = test.category_name.str.lower()\n",
    "test.brand_name = test.brand_name.str.lower()\n",
    "\n",
    "combined_ML.item_description = combined_ML.item_description.str.lower()\n",
    "combined_ML.name = combined_ML.name.str.lower()\n",
    "combined_ML.category_name = combined_ML.category_name.str.lower()\n",
    "combined_ML.brand_name = combined_ML.brand_name.str.lower()\n",
    "\n",
    "combined.item_description = combined.item_description.str.lower()\n",
    "combined.name = combined.name.str.lower()\n",
    "combined.category_name = combined.category_name.str.lower()\n",
    "combined.brand_name = combined.brand_name.str.lower()\n"
   ]
  },
  {
   "cell_type": "code",
   "execution_count": 12,
   "metadata": {
    "collapsed": false
   },
   "outputs": [
    {
     "data": {
      "text/plain": [
       "1482535"
      ]
     },
     "execution_count": 12,
     "metadata": {},
     "output_type": "execute_result"
    }
   ],
   "source": [
    "train_size"
   ]
  },
  {
   "cell_type": "code",
   "execution_count": 13,
   "metadata": {
    "collapsed": false
   },
   "outputs": [
    {
     "data": {
      "text/plain": [
       "train_id             1482535\n",
       "name                 1482535\n",
       "item_condition_id    1482535\n",
       "category_name        1476208\n",
       "brand_name            849853\n",
       "price                1482535\n",
       "shipping             1482535\n",
       "item_description     1482531\n",
       "dtype: int64"
      ]
     },
     "execution_count": 13,
     "metadata": {},
     "output_type": "execute_result"
    }
   ],
   "source": [
    "train.count()"
   ]
  },
  {
   "cell_type": "code",
   "execution_count": 14,
   "metadata": {
    "collapsed": true
   },
   "outputs": [],
   "source": [
    "train.category_name.fillna(value='other/other/other', inplace=True)\n",
    "train.item_description.fillna(value='no description yet', inplace=True)\n",
    "train.brand_name.fillna(value='no brand', inplace=True)\n",
    "\n",
    "test.category_name.fillna(value='other/other/other', inplace=True)\n",
    "test.item_description.fillna(value='no description yet', inplace=True)\n",
    "test.brand_name.fillna(value='no brand', inplace=True)\n",
    "\n",
    "combined_ML.category_name.fillna(value='other/other/other', inplace=True)\n",
    "combined_ML.item_description.fillna(value='no description yet', inplace=True)\n",
    "combined_ML.brand_name.fillna(value='no brand', inplace=True)\n",
    "\n",
    "combined.category_name.fillna(value='other/other/other', inplace=True)\n",
    "combined.item_description.fillna(value='no description yet', inplace=True)\n",
    "combined.brand_name.fillna(value='no brand', inplace=True)"
   ]
  },
  {
   "cell_type": "code",
   "execution_count": 15,
   "metadata": {
    "collapsed": false
   },
   "outputs": [
    {
     "data": {
      "text/plain": [
       "train_id             1482535\n",
       "name                 1482535\n",
       "item_condition_id    1482535\n",
       "category_name        1482535\n",
       "brand_name           1482535\n",
       "price                1482535\n",
       "shipping             1482535\n",
       "item_description     1482535\n",
       "dtype: int64"
      ]
     },
     "execution_count": 15,
     "metadata": {},
     "output_type": "execute_result"
    }
   ],
   "source": [
    "train.count()"
   ]
  },
  {
   "cell_type": "code",
   "execution_count": 16,
   "metadata": {
    "collapsed": false
   },
   "outputs": [
    {
     "data": {
      "text/plain": [
       "train_id               int64\n",
       "name                  object\n",
       "item_condition_id      int64\n",
       "category_name         object\n",
       "brand_name            object\n",
       "price                float64\n",
       "shipping               int64\n",
       "item_description      object\n",
       "dtype: object"
      ]
     },
     "execution_count": 16,
     "metadata": {},
     "output_type": "execute_result"
    }
   ],
   "source": [
    "train.dtypes"
   ]
  },
  {
   "cell_type": "code",
   "execution_count": 17,
   "metadata": {
    "collapsed": true
   },
   "outputs": [],
   "source": [
    "# remove stop words\n",
    "from nltk.corpus import stopwords\n",
    "\n",
    "stop = stopwords.words('english')\n",
    "\n",
    "def remove_stop_words(x):\n",
    "    x = ' '.join([i for i in x.lower().split() if i not in stop])\n",
    "    return x\n"
   ]
  },
  {
   "cell_type": "code",
   "execution_count": 18,
   "metadata": {
    "collapsed": true
   },
   "outputs": [],
   "source": [
    "train.item_description = train.item_description.apply(remove_stop_words)\n",
    "train.name = train.name.apply(remove_stop_words)\n",
    "\n",
    "test.item_description = test.item_description.apply(remove_stop_words)\n",
    "test.name = test.name.apply(remove_stop_words)\n",
    "\n",
    "combined_ML.item_description = combined_ML.item_description.apply(remove_stop_words)\n",
    "combined_ML.name = combined_ML.name.apply(remove_stop_words)\n",
    "\n",
    "combined.item_description = combined.item_description.apply(remove_stop_words)\n",
    "combined.name = combined.name.apply(remove_stop_words)"
   ]
  },
  {
   "cell_type": "markdown",
   "metadata": {},
   "source": [
    "## Adding Features"
   ]
  },
  {
   "cell_type": "code",
   "execution_count": 19,
   "metadata": {
    "collapsed": true
   },
   "outputs": [],
   "source": [
    "train[['category_1', 'category_2', 'category_3']] = train.category_name.str.split(\"/\", n=2, expand=True)\n",
    "test[['category_1', 'category_2', 'category_3']] = test.category_name.str.split(\"/\", n=2, expand=True)\n",
    "combined_ML[['category_1', 'category_2', 'category_3']] = combined_ML.category_name.str.split(\"/\", n=2, expand=True)\n",
    "combined[['category_1', 'category_2', 'category_3']] = combined.category_name.str.split(\"/\", n=2, expand=True)"
   ]
  },
  {
   "cell_type": "code",
   "execution_count": null,
   "metadata": {
    "collapsed": true
   },
   "outputs": [],
   "source": [
    "bins = [0, 64, 5000]\n",
    "labels = ['less', 'more']\n",
    "\n",
    "train['lt65'] = pd.cut(train['price'], bins=bins, labels=labels)\n",
    "combined_ML['lt65'] = combined_ML.category_name.str.split(\"/\", n=2, expand=True)\n",
    "combined['lt65'] = combined.category_name.str.split(\"/\", n=2, expand=True)"
   ]
  },
  {
   "cell_type": "markdown",
   "metadata": {},
   "source": [
    "## Exploring the Data"
   ]
  },
  {
   "cell_type": "markdown",
   "metadata": {},
   "source": [
    "### Price Distribution"
   ]
  },
  {
   "cell_type": "code",
   "execution_count": 20,
   "metadata": {
    "collapsed": false
   },
   "outputs": [
    {
     "data": {
      "text/plain": [
       "count   1482535.0000\n",
       "mean         26.7375\n",
       "std          38.5861\n",
       "min           0.0000\n",
       "25%          10.0000\n",
       "50%          17.0000\n",
       "75%          29.0000\n",
       "max        2009.0000\n",
       "Name: price, dtype: float64"
      ]
     },
     "execution_count": 20,
     "metadata": {},
     "output_type": "execute_result"
    }
   ],
   "source": [
    "train.price.describe()"
   ]
  },
  {
   "cell_type": "code",
   "execution_count": 21,
   "metadata": {
    "collapsed": false
   },
   "outputs": [
    {
     "data": {
      "text/html": [
       "<div>\n",
       "<style scoped>\n",
       "    .dataframe tbody tr th:only-of-type {\n",
       "        vertical-align: middle;\n",
       "    }\n",
       "\n",
       "    .dataframe tbody tr th {\n",
       "        vertical-align: top;\n",
       "    }\n",
       "\n",
       "    .dataframe thead th {\n",
       "        text-align: right;\n",
       "    }\n",
       "</style>\n",
       "<table border=\"1\" class=\"dataframe\">\n",
       "  <thead>\n",
       "    <tr style=\"text-align: right;\">\n",
       "      <th></th>\n",
       "      <th>count</th>\n",
       "      <th>mean</th>\n",
       "      <th>std</th>\n",
       "      <th>min</th>\n",
       "      <th>25%</th>\n",
       "      <th>50%</th>\n",
       "      <th>75%</th>\n",
       "      <th>max</th>\n",
       "    </tr>\n",
       "    <tr>\n",
       "      <th>price_bin</th>\n",
       "      <th></th>\n",
       "      <th></th>\n",
       "      <th></th>\n",
       "      <th></th>\n",
       "      <th></th>\n",
       "      <th></th>\n",
       "      <th></th>\n",
       "      <th></th>\n",
       "    </tr>\n",
       "  </thead>\n",
       "  <tbody>\n",
       "    <tr>\n",
       "      <th>q1</th>\n",
       "      <td>375615.0000</td>\n",
       "      <td>7.7152</td>\n",
       "      <td>2.0779</td>\n",
       "      <td>3.0000</td>\n",
       "      <td>6.0000</td>\n",
       "      <td>8.0000</td>\n",
       "      <td>10.0000</td>\n",
       "      <td>10.0000</td>\n",
       "    </tr>\n",
       "    <tr>\n",
       "      <th>q2</th>\n",
       "      <td>378177.0000</td>\n",
       "      <td>13.8429</td>\n",
       "      <td>1.7946</td>\n",
       "      <td>10.5000</td>\n",
       "      <td>12.0000</td>\n",
       "      <td>14.0000</td>\n",
       "      <td>15.0000</td>\n",
       "      <td>17.0000</td>\n",
       "    </tr>\n",
       "    <tr>\n",
       "      <th>q3</th>\n",
       "      <td>359743.0000</td>\n",
       "      <td>22.5557</td>\n",
       "      <td>3.3378</td>\n",
       "      <td>17.5000</td>\n",
       "      <td>20.0000</td>\n",
       "      <td>22.0000</td>\n",
       "      <td>25.0000</td>\n",
       "      <td>29.0000</td>\n",
       "    </tr>\n",
       "    <tr>\n",
       "      <th>q4</th>\n",
       "      <td>368126.0000</td>\n",
       "      <td>63.5435</td>\n",
       "      <td>63.7497</td>\n",
       "      <td>29.5000</td>\n",
       "      <td>35.0000</td>\n",
       "      <td>45.0000</td>\n",
       "      <td>66.0000</td>\n",
       "      <td>2009.0000</td>\n",
       "    </tr>\n",
       "  </tbody>\n",
       "</table>\n",
       "</div>"
      ],
      "text/plain": [
       "                count    mean     std     min     25%     50%     75%  \\\n",
       "price_bin                                                               \n",
       "q1        375615.0000  7.7152  2.0779  3.0000  6.0000  8.0000 10.0000   \n",
       "q2        378177.0000 13.8429  1.7946 10.5000 12.0000 14.0000 15.0000   \n",
       "q3        359743.0000 22.5557  3.3378 17.5000 20.0000 22.0000 25.0000   \n",
       "q4        368126.0000 63.5435 63.7497 29.5000 35.0000 45.0000 66.0000   \n",
       "\n",
       "                max  \n",
       "price_bin            \n",
       "q1          10.0000  \n",
       "q2          17.0000  \n",
       "q3          29.0000  \n",
       "q4        2009.0000  "
      ]
     },
     "execution_count": 21,
     "metadata": {},
     "output_type": "execute_result"
    }
   ],
   "source": [
    "bins = [0, 10, 17, 29, 2010]\n",
    "labels = ['q1', 'q2', 'q3', 'q4']\n",
    "train['price_bin'] = pd.cut(train['price'], bins=bins, labels=labels)\n",
    "train.groupby('price_bin')['price'].describe()"
   ]
  },
  {
   "cell_type": "code",
   "execution_count": 22,
   "metadata": {
    "collapsed": false
   },
   "outputs": [
    {
     "data": {
      "image/png": "[encoded data removed]",
      "text/plain": [
       "<Figure size 864x504 with 1 Axes>"
      ]
     },
     "metadata": {},
     "output_type": "display_data"
    }
   ],
   "source": [
    "plt.figure(figsize=(12,7))\n",
    "plt.hist(train['price'], bins=50, range=[0, 250], label='price')\n",
    "plt.title('Price Distribution', fontsize=15)\n",
    "plt.xlabel('Price', fontsize=15)\n",
    "plt.ylabel('Samples', fontsize=15)\n",
    "plt.xticks(fontsize=15)\n",
    "plt.yticks(fontsize=15)\n",
    "plt.legend(fontsize=15)\n",
    "plt.show()"
   ]
  },
  {
   "cell_type": "code",
   "execution_count": 23,
   "metadata": {
    "collapsed": false
   },
   "outputs": [
    {
     "name": "stderr",
     "output_type": "stream",
     "text": [
      "/Users/sshivakumar2/anaconda3/lib/python3.6/site-packages/matplotlib/axes/_axes.py:6462: UserWarning: The 'normed' kwarg is deprecated, and has been replaced by the 'density' kwarg.\n",
      "  warnings.warn(\"The 'normed' kwarg is deprecated, and has been \"\n",
      "/Users/sshivakumar2/anaconda3/lib/python3.6/site-packages/matplotlib/axes/_axes.py:6462: UserWarning: The 'normed' kwarg is deprecated, and has been replaced by the 'density' kwarg.\n",
      "  warnings.warn(\"The 'normed' kwarg is deprecated, and has been \"\n"
     ]
    },
    {
     "data": {
      "image/png": "[encoded data removed]",
      "text/plain": [
       "<Figure size 864x504 with 1 Axes>"
      ]
     },
     "metadata": {},
     "output_type": "display_data"
    }
   ],
   "source": [
    "shipping=train[train['shipping'] == 1]['price']\n",
    "no_shipping=train[train['shipping'] == 0]['price']\n",
    "\n",
    "plt.figure(figsize=(12, 7))\n",
    "plt.hist(shipping, bins=50, normed=True, range=[0, 250], alpha=0.7, label='Price with Shipping')\n",
    "plt.hist(no_shipping, bins=50, normed=True, range=[0, 250], alpha=0.7, label='Price with No Shipping')\n",
    "plt.title('Price Distribution With/Without Shipping')\n",
    "plt.xlabel('Price')\n",
    "plt.ylabel('Normalized Samples')\n",
    "plt.xticks(fontsize=15)\n",
    "plt.yticks(fontsize=15)\n",
    "plt.legend(fontsize=15)\n",
    "plt.show()"
   ]
  },
  {
   "cell_type": "markdown",
   "metadata": {},
   "source": [
    "### Brand Analysis"
   ]
  },
  {
   "cell_type": "code",
   "execution_count": 24,
   "metadata": {
    "collapsed": false
   },
   "outputs": [
    {
     "data": {
      "text/plain": [
       "4810"
      ]
     },
     "execution_count": 24,
     "metadata": {},
     "output_type": "execute_result"
    }
   ],
   "source": [
    "train['brand_name'].nunique()"
   ]
  },
  {
   "cell_type": "code",
   "execution_count": 25,
   "metadata": {
    "collapsed": false
   },
   "outputs": [
    {
     "data": {
      "image/png": "[encoded data removed]",
      "text/plain": [
       "<Figure size 864x504 with 1 Axes>"
      ]
     },
     "metadata": {},
     "output_type": "display_data"
    }
   ],
   "source": [
    "# Top 20 other than no brand\n",
    "b20 = train['brand_name'].value_counts()[1:21].reset_index().rename(columns={'index': 'brand_name', 'brand_name':'count'})\n",
    "plt.figure(figsize=(12, 7))\n",
    "ax = sns.barplot(x='brand_name', y='count', data=b20)\n",
    "ax.set_xticklabels(ax.get_xticklabels(), rotation= 90)\n",
    "ax.set_title('Top 20 Brand Distribution', fontsize=15)\n",
    "plt.show()"
   ]
  },
  {
   "cell_type": "code",
   "execution_count": 26,
   "metadata": {
    "collapsed": false
   },
   "outputs": [
    {
     "data": {
      "image/png": "[encoded data removed]",
      "text/plain": [
       "<Figure size 864x504 with 1 Axes>"
      ]
     },
     "metadata": {},
     "output_type": "display_data"
    },
    {
     "data": {
      "text/plain": [
       "no brand                0.4268\n",
       "pink                    0.0365\n",
       "nike                    0.0365\n",
       "victoria's secret       0.0324\n",
       "lularoe                 0.0209\n",
       "apple                   0.0117\n",
       "forever 21              0.0102\n",
       "nintendo                0.0101\n",
       "lululemon               0.0098\n",
       "michael kors            0.0094\n",
       "american eagle          0.0089\n",
       "rae dunn                0.0083\n",
       "sephora                 0.0082\n",
       "coach                   0.0071\n",
       "disney                  0.0070\n",
       "bath & body works       0.0070\n",
       "adidas                  0.0069\n",
       "funko                   0.0062\n",
       "under armour            0.0057\n",
       "sony                    0.0054\n",
       "old navy                0.0051\n",
       "hollister               0.0047\n",
       "carter's                0.0043\n",
       "urban decay             0.0042\n",
       "the north face          0.0042\n",
       "independent             0.0040\n",
       "too faced               0.0039\n",
       "xbox                    0.0039\n",
       "brandy melville         0.0038\n",
       "kate spade              0.0036\n",
       "                         ...  \n",
       "chronicle books         0.0000\n",
       "kikit                   0.0000\n",
       "xelement                0.0000\n",
       "sovereign code          0.0000\n",
       "paradise kids           0.0000\n",
       "famous catalog          0.0000\n",
       "skywalker trampolines   0.0000\n",
       "red haute               0.0000\n",
       "dunbrooke               0.0000\n",
       "scott®                  0.0000\n",
       "anita                   0.0000\n",
       "woot                    0.0000\n",
       "sun river               0.0000\n",
       "electronic arts         0.0000\n",
       "rosewill                0.0000\n",
       "escante                 0.0000\n",
       "zak designs             0.0000\n",
       "liebeskind              0.0000\n",
       "kc collections          0.0000\n",
       "smart gear              0.0000\n",
       "brockum                 0.0000\n",
       "bates                   0.0000\n",
       "lonna & lilly           0.0000\n",
       "hilfiger denim          0.0000\n",
       "suit studio             0.0000\n",
       "true rock               0.0000\n",
       "st. croix               0.0000\n",
       "smoky mountain          0.0000\n",
       "ingear                  0.0000\n",
       "sky organics            0.0000\n",
       "Name: brand_name, Length: 4810, dtype: float64"
      ]
     },
     "execution_count": 26,
     "metadata": {},
     "output_type": "execute_result"
    }
   ],
   "source": [
    "# top 20 expensive brands by mean price\n",
    "\n",
    "top20_brand = train.groupby('brand_name', axis=0).mean()\n",
    "df_expPrice = pd.DataFrame(top20_brand.sort_values('price', ascending=False)['price'][0:20].reset_index())\n",
    "\n",
    "plt.figure(figsize=(12, 7))\n",
    "ax = sns.barplot(x='brand_name', y='price', data=df_expPrice)\n",
    "ax.set_xticklabels(ax.get_xticklabels(), rotation= 90, fontsize=15)\n",
    "ax.set_title('Top 20 Expensive Brand', fontsize=15)\n",
    "plt.show()\n",
    "train['brand_name'].value_counts(1)"
   ]
  },
  {
   "cell_type": "markdown",
   "metadata": {},
   "source": [
    "### Category Distribution"
   ]
  },
  {
   "cell_type": "code",
   "execution_count": 27,
   "metadata": {
    "collapsed": false
   },
   "outputs": [
    {
     "data": {
      "text/html": [
       "<div>\n",
       "<style scoped>\n",
       "    .dataframe tbody tr th:only-of-type {\n",
       "        vertical-align: middle;\n",
       "    }\n",
       "\n",
       "    .dataframe tbody tr th {\n",
       "        vertical-align: top;\n",
       "    }\n",
       "\n",
       "    .dataframe thead th {\n",
       "        text-align: right;\n",
       "    }\n",
       "</style>\n",
       "<table border=\"1\" class=\"dataframe\">\n",
       "  <thead>\n",
       "    <tr style=\"text-align: right;\">\n",
       "      <th></th>\n",
       "      <th>category_1</th>\n",
       "      <th>category_2</th>\n",
       "      <th>category_3</th>\n",
       "      <th>price</th>\n",
       "    </tr>\n",
       "  </thead>\n",
       "  <tbody>\n",
       "    <tr>\n",
       "      <th>0</th>\n",
       "      <td>men</td>\n",
       "      <td>tops</td>\n",
       "      <td>t-shirts</td>\n",
       "      <td>10.0000</td>\n",
       "    </tr>\n",
       "    <tr>\n",
       "      <th>1</th>\n",
       "      <td>electronics</td>\n",
       "      <td>computers &amp; tablets</td>\n",
       "      <td>components &amp; parts</td>\n",
       "      <td>52.0000</td>\n",
       "    </tr>\n",
       "    <tr>\n",
       "      <th>2</th>\n",
       "      <td>women</td>\n",
       "      <td>tops &amp; blouses</td>\n",
       "      <td>blouse</td>\n",
       "      <td>10.0000</td>\n",
       "    </tr>\n",
       "    <tr>\n",
       "      <th>3</th>\n",
       "      <td>home</td>\n",
       "      <td>home décor</td>\n",
       "      <td>home décor accents</td>\n",
       "      <td>35.0000</td>\n",
       "    </tr>\n",
       "    <tr>\n",
       "      <th>4</th>\n",
       "      <td>women</td>\n",
       "      <td>jewelry</td>\n",
       "      <td>necklaces</td>\n",
       "      <td>44.0000</td>\n",
       "    </tr>\n",
       "  </tbody>\n",
       "</table>\n",
       "</div>"
      ],
      "text/plain": [
       "    category_1           category_2          category_3   price\n",
       "0          men                 tops            t-shirts 10.0000\n",
       "1  electronics  computers & tablets  components & parts 52.0000\n",
       "2        women       tops & blouses              blouse 10.0000\n",
       "3         home           home décor  home décor accents 35.0000\n",
       "4        women              jewelry           necklaces 44.0000"
      ]
     },
     "execution_count": 27,
     "metadata": {},
     "output_type": "execute_result"
    }
   ],
   "source": [
    "cat_train = train[['category_1', 'category_2', 'category_3', 'price']]\n",
    "cat_train.head()"
   ]
  },
  {
   "cell_type": "code",
   "execution_count": 28,
   "metadata": {
    "collapsed": false
   },
   "outputs": [
    {
     "data": {
      "image/png": "[encoded data removed]",
      "text/plain": [
       "<Figure size 864x504 with 1 Axes>"
      ]
     },
     "metadata": {},
     "output_type": "display_data"
    }
   ],
   "source": [
    "plt.figure(figsize=(12, 7))\n",
    "ax = sns.countplot(y=cat_train['category_1'], order=cat_train['category_1'].value_counts().index)\n",
    "ax.set_xticklabels(ax.get_xticklabels(), rotation= 90, fontsize=15)\n",
    "ax.set_title('Top 10 Main Category', fontsize=15)\n",
    "plt.show()\n"
   ]
  },
  {
   "cell_type": "code",
   "execution_count": 29,
   "metadata": {
    "collapsed": false
   },
   "outputs": [
    {
     "data": {
      "text/plain": [
       "women                    0.4481\n",
       "beauty                   0.1402\n",
       "kids                     0.1158\n",
       "electronics              0.0828\n",
       "men                      0.0632\n",
       "home                     0.0458\n",
       "other                    0.0349\n",
       "vintage & collectibles   0.0314\n",
       "handmade                 0.0208\n",
       "sports & outdoors        0.0171\n",
       "Name: category_1, dtype: float64"
      ]
     },
     "execution_count": 29,
     "metadata": {},
     "output_type": "execute_result"
    }
   ],
   "source": [
    "# Distribution\n",
    "cat_train['category_1'].value_counts(1)"
   ]
  },
  {
   "cell_type": "code",
   "execution_count": 30,
   "metadata": {
    "collapsed": false
   },
   "outputs": [
    {
     "data": {
      "image/png": "[encoded data removed]",
      "text/plain": [
       "<Figure size 864x1080 with 1 Axes>"
      ]
     },
     "metadata": {},
     "output_type": "display_data"
    }
   ],
   "source": [
    "df = cat_train.groupby(['category_2'])['price'].agg(['mean']).reset_index().rename(columns={'index':'main', 'category_main':'count'})\n",
    "df = df.sort_values('mean', ascending=False).head(20)\n",
    "\n",
    "plt.figure(figsize=(12, 15))\n",
    "plt.barh(range(0, len(df)), df['mean'], align='center', alpha=0.5, color='r')\n",
    "plt.yticks(range(0, len(df)), df['category_2'], fontsize=15)\n",
    "\n",
    "plt.xlabel('Price', fontsize=15)\n",
    "plt.ylabel('Sub Category 2', fontsize=15)\n",
    "plt.title('Top 20 Sub Category (Mean Price)', fontsize=18)\n",
    "plt.show()\n"
   ]
  },
  {
   "cell_type": "markdown",
   "metadata": {},
   "source": [
    "### Item Description Analysis"
   ]
  },
  {
   "cell_type": "code",
   "execution_count": 31,
   "metadata": {
    "collapsed": false
   },
   "outputs": [
    {
     "name": "stderr",
     "output_type": "stream",
     "text": [
      "/Users/sshivakumar2/anaconda3/lib/python3.6/site-packages/ipykernel_launcher.py:2: SettingWithCopyWarning: \n",
      "A value is trying to be set on a copy of a slice from a DataFrame.\n",
      "Try using .loc[row_indexer,col_indexer] = value instead\n",
      "\n",
      "See the caveats in the documentation: http://pandas.pydata.org/pandas-docs/stable/indexing.html#indexing-view-versus-copy\n",
      "  \n"
     ]
    },
    {
     "data": {
      "text/html": [
       "<div>\n",
       "<style scoped>\n",
       "    .dataframe tbody tr th:only-of-type {\n",
       "        vertical-align: middle;\n",
       "    }\n",
       "\n",
       "    .dataframe tbody tr th {\n",
       "        vertical-align: top;\n",
       "    }\n",
       "\n",
       "    .dataframe thead th {\n",
       "        text-align: right;\n",
       "    }\n",
       "</style>\n",
       "<table border=\"1\" class=\"dataframe\">\n",
       "  <thead>\n",
       "    <tr style=\"text-align: right;\">\n",
       "      <th></th>\n",
       "      <th>item_description</th>\n",
       "      <th>price</th>\n",
       "      <th>count</th>\n",
       "    </tr>\n",
       "  </thead>\n",
       "  <tbody>\n",
       "    <tr>\n",
       "      <th>0</th>\n",
       "      <td>description yet</td>\n",
       "      <td>10.0000</td>\n",
       "      <td>15</td>\n",
       "    </tr>\n",
       "    <tr>\n",
       "      <th>1</th>\n",
       "      <td>keyboard great condition works like came box p...</td>\n",
       "      <td>52.0000</td>\n",
       "      <td>117</td>\n",
       "    </tr>\n",
       "    <tr>\n",
       "      <th>2</th>\n",
       "      <td>adorable top hint lace key hole back pale pink...</td>\n",
       "      <td>10.0000</td>\n",
       "      <td>71</td>\n",
       "    </tr>\n",
       "  </tbody>\n",
       "</table>\n",
       "</div>"
      ],
      "text/plain": [
       "                                    item_description   price  count\n",
       "0                                    description yet 10.0000     15\n",
       "1  keyboard great condition works like came box p... 52.0000    117\n",
       "2  adorable top hint lace key hole back pale pink... 10.0000     71"
      ]
     },
     "execution_count": 31,
     "metadata": {},
     "output_type": "execute_result"
    }
   ],
   "source": [
    "descr = train[['item_description', 'price']]\n",
    "descr['count'] = descr.item_description.str.len()\n",
    "descr.head(3)"
   ]
  },
  {
   "cell_type": "code",
   "execution_count": 32,
   "metadata": {
    "collapsed": false
   },
   "outputs": [
    {
     "name": "stderr",
     "output_type": "stream",
     "text": [
      "/Users/sshivakumar2/anaconda3/lib/python3.6/site-packages/ipykernel_launcher.py:5: SettingWithCopyWarning: \n",
      "A value is trying to be set on a copy of a slice from a DataFrame.\n",
      "Try using .loc[row_indexer,col_indexer] = value instead\n",
      "\n",
      "See the caveats in the documentation: http://pandas.pydata.org/pandas-docs/stable/indexing.html#indexing-view-versus-copy\n",
      "  \"\"\"\n"
     ]
    },
    {
     "data": {
      "text/html": [
       "<div>\n",
       "<style scoped>\n",
       "    .dataframe tbody tr th:only-of-type {\n",
       "        vertical-align: middle;\n",
       "    }\n",
       "\n",
       "    .dataframe tbody tr th {\n",
       "        vertical-align: top;\n",
       "    }\n",
       "\n",
       "    .dataframe thead th {\n",
       "        text-align: right;\n",
       "    }\n",
       "</style>\n",
       "<table border=\"1\" class=\"dataframe\">\n",
       "  <thead>\n",
       "    <tr style=\"text-align: right;\">\n",
       "      <th></th>\n",
       "      <th>item_description</th>\n",
       "      <th>price</th>\n",
       "      <th>count</th>\n",
       "    </tr>\n",
       "  </thead>\n",
       "  <tbody>\n",
       "    <tr>\n",
       "      <th>1482525</th>\n",
       "      <td>removable straps make strapless size b perfect...</td>\n",
       "      <td>7.0000</td>\n",
       "      <td>56</td>\n",
       "    </tr>\n",
       "    <tr>\n",
       "      <th>1482526</th>\n",
       "      <td>great harry potter shirt hogwarts school witch...</td>\n",
       "      <td>12.0000</td>\n",
       "      <td>123</td>\n",
       "    </tr>\n",
       "    <tr>\n",
       "      <th>1482527</th>\n",
       "      <td>brand new black white ribbed mock neck bodysuit</td>\n",
       "      <td>10.0000</td>\n",
       "      <td>47</td>\n",
       "    </tr>\n",
       "    <tr>\n",
       "      <th>1482528</th>\n",
       "      <td>purple paisley victorias secret tankini size l...</td>\n",
       "      <td>18.0000</td>\n",
       "      <td>103</td>\n",
       "    </tr>\n",
       "    <tr>\n",
       "      <th>1482529</th>\n",
       "      <td>rm set perfect condition holes stains like new...</td>\n",
       "      <td>34.0000</td>\n",
       "      <td>76</td>\n",
       "    </tr>\n",
       "    <tr>\n",
       "      <th>1482530</th>\n",
       "      <td>lace says size small fits medium perfectly nev...</td>\n",
       "      <td>20.0000</td>\n",
       "      <td>98</td>\n",
       "    </tr>\n",
       "    <tr>\n",
       "      <th>1482531</th>\n",
       "      <td>little mermaid handmade dress never worn s</td>\n",
       "      <td>14.0000</td>\n",
       "      <td>45</td>\n",
       "    </tr>\n",
       "    <tr>\n",
       "      <th>1482532</th>\n",
       "      <td>used twice still great shap</td>\n",
       "      <td>12.0000</td>\n",
       "      <td>28</td>\n",
       "    </tr>\n",
       "    <tr>\n",
       "      <th>1482533</th>\n",
       "      <td>one see red orange big red orange ones world m...</td>\n",
       "      <td>45.0000</td>\n",
       "      <td>51</td>\n",
       "    </tr>\n",
       "    <tr>\n",
       "      <th>1482534</th>\n",
       "      <td>new tag red sparkle firm price free ship</td>\n",
       "      <td>22.0000</td>\n",
       "      <td>44</td>\n",
       "    </tr>\n",
       "  </tbody>\n",
       "</table>\n",
       "</div>"
      ],
      "text/plain": [
       "                                          item_description   price  count\n",
       "1482525  removable straps make strapless size b perfect...  7.0000     56\n",
       "1482526  great harry potter shirt hogwarts school witch... 12.0000    123\n",
       "1482527    brand new black white ribbed mock neck bodysuit 10.0000     47\n",
       "1482528  purple paisley victorias secret tankini size l... 18.0000    103\n",
       "1482529  rm set perfect condition holes stains like new... 34.0000     76\n",
       "1482530  lace says size small fits medium perfectly nev... 20.0000     98\n",
       "1482531         little mermaid handmade dress never worn s 14.0000     45\n",
       "1482532                        used twice still great shap 12.0000     28\n",
       "1482533  one see red orange big red orange ones world m... 45.0000     51\n",
       "1482534           new tag red sparkle firm price free ship 22.0000     44"
      ]
     },
     "execution_count": 32,
     "metadata": {},
     "output_type": "execute_result"
    }
   ],
   "source": [
    "from nltk.stem.porter import PorterStemmer\n",
    "\n",
    "porter = PorterStemmer()\n",
    "\n",
    "descr['item_description'] = descr.item_description.apply(porter.stem)\n",
    "descr.tail(10)"
   ]
  },
  {
   "cell_type": "code",
   "execution_count": 33,
   "metadata": {
    "collapsed": false
   },
   "outputs": [
    {
     "name": "stderr",
     "output_type": "stream",
     "text": [
      "/Users/sshivakumar2/anaconda3/lib/python3.6/site-packages/scipy/stats/stats.py:1713: FutureWarning: Using a non-tuple sequence for multidimensional indexing is deprecated; use `arr[tuple(seq)]` instead of `arr[seq]`. In the future this will be interpreted as an array index, `arr[np.array(seq)]`, which will result either in an error or a different result.\n",
      "  return np.add.reduce(sorted[indexer] * weights, axis=axis) / sumval\n"
     ]
    },
    {
     "data": {
      "image/png": "[encoded data removed]",
      "text/plain": [
       "<Figure size 432x288 with 1 Axes>"
      ]
     },
     "metadata": {},
     "output_type": "display_data"
    }
   ],
   "source": [
    "df = descr.groupby('count')['price'].mean().reset_index()\n",
    "sns.regplot(x=df['count'], y=df['price'])\n",
    "plt.xlabel('word count')\n",
    "plt.show()"
   ]
  },
  {
   "cell_type": "markdown",
   "metadata": {},
   "source": [
    "## Converting to Categorical"
   ]
  },
  {
   "cell_type": "code",
   "execution_count": 35,
   "metadata": {
    "collapsed": true
   },
   "outputs": [],
   "source": [
    "def to_categorical(df):\n",
    "    df['brand_name'] = df['brand_name'].astype('category')\n",
    "    df['category_name'] = df['category_name'].astype('category')\n",
    "    df['item_condition_id'] = df['item_condition_id'].astype('category')\n",
    "    \n",
    "to_categorical(combined)\n"
   ]
  },
  {
   "cell_type": "markdown",
   "metadata": {},
   "source": [
    "## Apply CountVectorizer / TfIdfVectorizer / LabelBinarizer"
   ]
  },
  {
   "cell_type": "code",
   "execution_count": 36,
   "metadata": {
    "collapsed": true
   },
   "outputs": [],
   "source": [
    "from sklearn.feature_extraction.text import CountVectorizer, TfidfVectorizer\n",
    "from scipy.sparse import vstack, hstack, csr_matrix\n",
    "from sklearn.preprocessing import LabelBinarizer\n",
    "from sklearn.linear_model import Ridge\n"
   ]
  },
  {
   "cell_type": "code",
   "execution_count": 37,
   "metadata": {
    "collapsed": false
   },
   "outputs": [
    {
     "data": {
      "text/plain": [
       "<2175894x148904 sparse matrix of type '<class 'numpy.int64'>'\n",
       "\twith 8377941 stored elements in Compressed Sparse Row format>"
      ]
     },
     "execution_count": 37,
     "metadata": {},
     "output_type": "execute_result"
    }
   ],
   "source": [
    "cv = CountVectorizer()\n",
    "X_name = cv.fit_transform(combined['name'])\n",
    "X_name"
   ]
  },
  {
   "cell_type": "code",
   "execution_count": 38,
   "metadata": {
    "collapsed": false
   },
   "outputs": [
    {
     "data": {
      "text/plain": [
       "<2175894x1021 sparse matrix of type '<class 'numpy.int64'>'\n",
       "\twith 8711929 stored elements in Compressed Sparse Row format>"
      ]
     },
     "execution_count": 38,
     "metadata": {},
     "output_type": "execute_result"
    }
   ],
   "source": [
    "cv = CountVectorizer()\n",
    "X_category = cv.fit_transform(combined['category_name'])\n",
    "X_category"
   ]
  },
  {
   "cell_type": "code",
   "execution_count": 54,
   "metadata": {
    "collapsed": true
   },
   "outputs": [],
   "source": [
    "cv = CountVectorizer()\n",
    "X_category_1 = cv.fit_transform(combined['category_1'])\n",
    "cv = CountVectorizer()\n",
    "X_category_2 = cv.fit_transform(combined['category_2'])\n",
    "cv = CountVectorizer()\n",
    "X_category_3 = cv.fit_transform(combined['category_3'])\n"
   ]
  },
  {
   "cell_type": "code",
   "execution_count": 39,
   "metadata": {
    "collapsed": true
   },
   "outputs": [],
   "source": [
    "tv = TfidfVectorizer(max_features=55000, ngram_range=(1, 2), stop_words='english')\n",
    "X_description = tv.fit_transform(combined['item_description'])"
   ]
  },
  {
   "cell_type": "code",
   "execution_count": 40,
   "metadata": {
    "collapsed": false
   },
   "outputs": [
    {
     "data": {
      "text/plain": [
       "<2175894x55000 sparse matrix of type '<class 'numpy.float64'>'\n",
       "\twith 43367668 stored elements in Compressed Sparse Row format>"
      ]
     },
     "execution_count": 40,
     "metadata": {},
     "output_type": "execute_result"
    }
   ],
   "source": [
    "X_description"
   ]
  },
  {
   "cell_type": "code",
   "execution_count": 41,
   "metadata": {
    "collapsed": true
   },
   "outputs": [],
   "source": [
    "lb = LabelBinarizer(sparse_output=True)\n",
    "X_brand = lb.fit_transform(combined['brand_name'])"
   ]
  },
  {
   "cell_type": "code",
   "execution_count": 42,
   "metadata": {
    "collapsed": false
   },
   "outputs": [
    {
     "data": {
      "text/plain": [
       "<2175894x5290 sparse matrix of type '<class 'numpy.int64'>'\n",
       "\twith 2175894 stored elements in Compressed Sparse Row format>"
      ]
     },
     "execution_count": 42,
     "metadata": {},
     "output_type": "execute_result"
    }
   ],
   "source": [
    "X_brand"
   ]
  },
  {
   "cell_type": "markdown",
   "metadata": {},
   "source": [
    "## Create a CSR Matrix and merge the sparse matrices"
   ]
  },
  {
   "cell_type": "code",
   "execution_count": 43,
   "metadata": {
    "collapsed": true
   },
   "outputs": [],
   "source": [
    "X_dummies = csr_matrix(pd.get_dummies(combined[['item_condition_id', 'shipping']], sparse=True).values)\n",
    "sparse_merge = hstack((X_dummies, X_description, X_category, X_name)).tocsr()"
   ]
  },
  {
   "cell_type": "code",
   "execution_count": null,
   "metadata": {
    "collapsed": true
   },
   "outputs": [],
   "source": [
    "X_dummies = csr_matrix(pd.get_dummies(combined[['item_condition_id', 'shipping']], sparse=True).values)\n",
    "sparse_merge = hstack((X_dummies, X_description, X_category_1, X_category_2, X_category_3, X_name)).tocsr()"
   ]
  },
  {
   "cell_type": "code",
   "execution_count": 44,
   "metadata": {
    "collapsed": true
   },
   "outputs": [],
   "source": [
    "X_train_sparse = sparse_merge[:train_size]\n",
    "X_test = sparse_merge[train_size:]"
   ]
  },
  {
   "cell_type": "markdown",
   "metadata": {},
   "source": [
    "## Cross Validation"
   ]
  },
  {
   "cell_type": "code",
   "execution_count": 45,
   "metadata": {
    "collapsed": false
   },
   "outputs": [
    {
     "name": "stderr",
     "output_type": "stream",
     "text": [
      "/Users/sshivakumar2/anaconda3/lib/python3.6/site-packages/sklearn/cross_validation.py:41: DeprecationWarning: This module was deprecated in version 0.18 in favor of the model_selection module into which all the refactored classes and functions are moved. Also note that the interface of the new CV iterators are different from that of this module. This module will be removed in 0.20.\n",
      "  \"This module will be removed in 0.20.\", DeprecationWarning)\n"
     ]
    }
   ],
   "source": [
    "from sklearn.cross_validation import KFold\n",
    "\n",
    "eval_size = .10\n",
    "kf = KFold(len(y), round(1. / eval_size))\n",
    "train_indices, valid_indices = next(iter(kf))\n",
    "X_train, y_train = X_train_sparse[train_indices], y[train_indices]\n",
    "X_valid, y_valid = X_train_sparse[valid_indices], y[valid_indices]"
   ]
  },
  {
   "cell_type": "code",
   "execution_count": 46,
   "metadata": {
    "collapsed": true
   },
   "outputs": [],
   "source": [
    "def rmsle(y, y0):\n",
    "    assert len(y) == len(y0)\n",
    "    return np.sqrt(np.mean(np.power(np.log1p(y) - np.log1p(y0), 2)))"
   ]
  },
  {
   "cell_type": "code",
   "execution_count": 47,
   "metadata": {
    "collapsed": false
   },
   "outputs": [
    {
     "name": "stderr",
     "output_type": "stream",
     "text": [
      "/Users/sshivakumar2/anaconda3/lib/python3.6/site-packages/lightgbm/__init__.py:46: UserWarning: Starting from version 2.2.1, the library file in distribution wheels for macOS is built by the Apple Clang (Xcode_9.4.1) compiler.\n",
      "This means that in case of installing LightGBM from PyPI via the ``pip install lightgbm`` command, you don't need to install the gcc compiler anymore.\n",
      "Instead of that, you need to install the OpenMP library, which is required for running LightGBM on the system with the Apple Clang compiler.\n",
      "You can install the OpenMP library by the following command: ``brew install libomp``.\n",
      "  \"You can install the OpenMP library by the following command: ``brew install libomp``.\", UserWarning)\n"
     ]
    }
   ],
   "source": [
    "import lightgbm as lgb\n",
    "d_train = lgb.Dataset(X_train, label=y_train)"
   ]
  },
  {
   "cell_type": "code",
   "execution_count": 48,
   "metadata": {
    "collapsed": true
   },
   "outputs": [],
   "source": [
    "params = {}\n",
    "params['boosting_type'] = 'gbdt'\n",
    "params['objective'] = 'regression'\n",
    "params['metric'] = 'rmse'"
   ]
  },
  {
   "cell_type": "code",
   "execution_count": 49,
   "metadata": {
    "collapsed": true
   },
   "outputs": [],
   "source": [
    "clf = lgb.train(params, d_train, 100)"
   ]
  },
  {
   "cell_type": "code",
   "execution_count": 50,
   "metadata": {
    "collapsed": true
   },
   "outputs": [],
   "source": [
    "lgbm_pred = clf.predict(X_valid)"
   ]
  },
  {
   "cell_type": "code",
   "execution_count": 51,
   "metadata": {
    "collapsed": false
   },
   "outputs": [
    {
     "data": {
      "text/plain": [
       "array([12.34728701, 28.94644712, 13.54537765, ..., 12.66567257,\n",
       "       10.58751229, 12.27064031])"
      ]
     },
     "execution_count": 51,
     "metadata": {},
     "output_type": "execute_result"
    }
   ],
   "source": [
    "np.expm1(lgbm_pred)"
   ]
  },
  {
   "cell_type": "code",
   "execution_count": 52,
   "metadata": {
    "collapsed": false
   },
   "outputs": [
    {
     "name": "stdout",
     "output_type": "stream",
     "text": [
      "[2.7179718017578125e-05] LGBM completed\n",
      "LGBM rmsle: 0.547887461934872\n"
     ]
    }
   ],
   "source": [
    "import time\n",
    "start_time = time.time()\n",
    "\n",
    "print('[{}] LGBM completed'.format(time.time() - start_time))\n",
    "print(\"LGBM rmsle: \"+ str(rmsle(np.expm1(y_valid), np.expm1(lgbm_pred))))"
   ]
  },
  {
   "cell_type": "markdown",
   "metadata": {},
   "source": [
    "## Train with Ridge Regression"
   ]
  },
  {
   "cell_type": "code",
   "execution_count": 53,
   "metadata": {
    "collapsed": false
   },
   "outputs": [
    {
     "name": "stdout",
     "output_type": "stream",
     "text": [
      "Fitting Ridge Model\n",
      "[159.2265820503235] LGBM completed\n",
      "LGBM rmsle: 0.547887461934872\n"
     ]
    }
   ],
   "source": [
    "import time\n",
    "start_time = time.time()\n",
    "\n",
    "model = Ridge(solver=\"sag\", fit_intercept=False)\n",
    "\n",
    "print(\"Fitting Ridge Model\")\n",
    "\n",
    "model.fit(X_train, y_train)\n",
    "\n",
    "preds_valid = model.predict(X_valid)\n",
    "\n",
    "\n",
    "print('[{}] LGBM completed'.format(time.time() - start_time))\n",
    "print(\"LGBM rmsle: \"+ str(rmsle(np.expm1(y_valid), np.expm1(lgbm_pred))))"
   ]
  },
  {
   "cell_type": "markdown",
   "metadata": {},
   "source": [
    "## Predict on Test Set"
   ]
  },
  {
   "cell_type": "code",
   "execution_count": 55,
   "metadata": {
    "collapsed": true
   },
   "outputs": [],
   "source": [
    "preds = model.predict(X_test)"
   ]
  },
  {
   "cell_type": "code",
   "execution_count": 56,
   "metadata": {
    "collapsed": false
   },
   "outputs": [
    {
     "name": "stderr",
     "output_type": "stream",
     "text": [
      "/Users/sshivakumar2/anaconda3/lib/python3.6/site-packages/ipykernel_launcher.py:1: SettingWithCopyWarning: \n",
      "A value is trying to be set on a copy of a slice from a DataFrame.\n",
      "Try using .loc[row_indexer,col_indexer] = value instead\n",
      "\n",
      "See the caveats in the documentation: http://pandas.pydata.org/pandas-docs/stable/indexing.html#indexing-view-versus-copy\n",
      "  \"\"\"Entry point for launching an IPython kernel.\n"
     ]
    },
    {
     "data": {
      "text/html": [
       "<div>\n",
       "<style scoped>\n",
       "    .dataframe tbody tr th:only-of-type {\n",
       "        vertical-align: middle;\n",
       "    }\n",
       "\n",
       "    .dataframe tbody tr th {\n",
       "        vertical-align: top;\n",
       "    }\n",
       "\n",
       "    .dataframe thead th {\n",
       "        text-align: right;\n",
       "    }\n",
       "</style>\n",
       "<table border=\"1\" class=\"dataframe\">\n",
       "  <thead>\n",
       "    <tr style=\"text-align: right;\">\n",
       "      <th></th>\n",
       "      <th>test_id</th>\n",
       "      <th>price</th>\n",
       "    </tr>\n",
       "  </thead>\n",
       "  <tbody>\n",
       "    <tr>\n",
       "      <th>0</th>\n",
       "      <td>0</td>\n",
       "      <td>11.1292</td>\n",
       "    </tr>\n",
       "    <tr>\n",
       "      <th>1</th>\n",
       "      <td>1</td>\n",
       "      <td>10.4010</td>\n",
       "    </tr>\n",
       "    <tr>\n",
       "      <th>2</th>\n",
       "      <td>2</td>\n",
       "      <td>47.2022</td>\n",
       "    </tr>\n",
       "    <tr>\n",
       "      <th>3</th>\n",
       "      <td>3</td>\n",
       "      <td>14.3170</td>\n",
       "    </tr>\n",
       "    <tr>\n",
       "      <th>4</th>\n",
       "      <td>4</td>\n",
       "      <td>7.1783</td>\n",
       "    </tr>\n",
       "    <tr>\n",
       "      <th>5</th>\n",
       "      <td>5</td>\n",
       "      <td>9.6096</td>\n",
       "    </tr>\n",
       "    <tr>\n",
       "      <th>6</th>\n",
       "      <td>6</td>\n",
       "      <td>10.4254</td>\n",
       "    </tr>\n",
       "    <tr>\n",
       "      <th>7</th>\n",
       "      <td>7</td>\n",
       "      <td>34.5782</td>\n",
       "    </tr>\n",
       "    <tr>\n",
       "      <th>8</th>\n",
       "      <td>8</td>\n",
       "      <td>42.0681</td>\n",
       "    </tr>\n",
       "    <tr>\n",
       "      <th>9</th>\n",
       "      <td>9</td>\n",
       "      <td>8.2536</td>\n",
       "    </tr>\n",
       "    <tr>\n",
       "      <th>10</th>\n",
       "      <td>10</td>\n",
       "      <td>48.0019</td>\n",
       "    </tr>\n",
       "    <tr>\n",
       "      <th>11</th>\n",
       "      <td>11</td>\n",
       "      <td>11.3324</td>\n",
       "    </tr>\n",
       "    <tr>\n",
       "      <th>12</th>\n",
       "      <td>12</td>\n",
       "      <td>46.8363</td>\n",
       "    </tr>\n",
       "    <tr>\n",
       "      <th>13</th>\n",
       "      <td>13</td>\n",
       "      <td>35.0068</td>\n",
       "    </tr>\n",
       "    <tr>\n",
       "      <th>14</th>\n",
       "      <td>14</td>\n",
       "      <td>24.8745</td>\n",
       "    </tr>\n",
       "    <tr>\n",
       "      <th>15</th>\n",
       "      <td>15</td>\n",
       "      <td>10.9800</td>\n",
       "    </tr>\n",
       "    <tr>\n",
       "      <th>16</th>\n",
       "      <td>16</td>\n",
       "      <td>19.8221</td>\n",
       "    </tr>\n",
       "    <tr>\n",
       "      <th>17</th>\n",
       "      <td>17</td>\n",
       "      <td>14.9244</td>\n",
       "    </tr>\n",
       "    <tr>\n",
       "      <th>18</th>\n",
       "      <td>18</td>\n",
       "      <td>37.8032</td>\n",
       "    </tr>\n",
       "    <tr>\n",
       "      <th>19</th>\n",
       "      <td>19</td>\n",
       "      <td>8.3739</td>\n",
       "    </tr>\n",
       "    <tr>\n",
       "      <th>20</th>\n",
       "      <td>20</td>\n",
       "      <td>7.6754</td>\n",
       "    </tr>\n",
       "    <tr>\n",
       "      <th>21</th>\n",
       "      <td>21</td>\n",
       "      <td>8.6794</td>\n",
       "    </tr>\n",
       "    <tr>\n",
       "      <th>22</th>\n",
       "      <td>22</td>\n",
       "      <td>9.9224</td>\n",
       "    </tr>\n",
       "    <tr>\n",
       "      <th>23</th>\n",
       "      <td>23</td>\n",
       "      <td>18.9113</td>\n",
       "    </tr>\n",
       "    <tr>\n",
       "      <th>24</th>\n",
       "      <td>24</td>\n",
       "      <td>38.2508</td>\n",
       "    </tr>\n",
       "    <tr>\n",
       "      <th>25</th>\n",
       "      <td>25</td>\n",
       "      <td>7.9333</td>\n",
       "    </tr>\n",
       "    <tr>\n",
       "      <th>26</th>\n",
       "      <td>26</td>\n",
       "      <td>17.9468</td>\n",
       "    </tr>\n",
       "    <tr>\n",
       "      <th>27</th>\n",
       "      <td>27</td>\n",
       "      <td>8.9456</td>\n",
       "    </tr>\n",
       "    <tr>\n",
       "      <th>28</th>\n",
       "      <td>28</td>\n",
       "      <td>61.6398</td>\n",
       "    </tr>\n",
       "    <tr>\n",
       "      <th>29</th>\n",
       "      <td>29</td>\n",
       "      <td>8.7101</td>\n",
       "    </tr>\n",
       "    <tr>\n",
       "      <th>...</th>\n",
       "      <td>...</td>\n",
       "      <td>...</td>\n",
       "    </tr>\n",
       "    <tr>\n",
       "      <th>693329</th>\n",
       "      <td>693329</td>\n",
       "      <td>25.3743</td>\n",
       "    </tr>\n",
       "    <tr>\n",
       "      <th>693330</th>\n",
       "      <td>693330</td>\n",
       "      <td>18.1488</td>\n",
       "    </tr>\n",
       "    <tr>\n",
       "      <th>693331</th>\n",
       "      <td>693331</td>\n",
       "      <td>14.6639</td>\n",
       "    </tr>\n",
       "    <tr>\n",
       "      <th>693332</th>\n",
       "      <td>693332</td>\n",
       "      <td>37.1074</td>\n",
       "    </tr>\n",
       "    <tr>\n",
       "      <th>693333</th>\n",
       "      <td>693333</td>\n",
       "      <td>17.0723</td>\n",
       "    </tr>\n",
       "    <tr>\n",
       "      <th>693334</th>\n",
       "      <td>693334</td>\n",
       "      <td>65.1757</td>\n",
       "    </tr>\n",
       "    <tr>\n",
       "      <th>693335</th>\n",
       "      <td>693335</td>\n",
       "      <td>6.0845</td>\n",
       "    </tr>\n",
       "    <tr>\n",
       "      <th>693336</th>\n",
       "      <td>693336</td>\n",
       "      <td>17.2923</td>\n",
       "    </tr>\n",
       "    <tr>\n",
       "      <th>693337</th>\n",
       "      <td>693337</td>\n",
       "      <td>16.1108</td>\n",
       "    </tr>\n",
       "    <tr>\n",
       "      <th>693338</th>\n",
       "      <td>693338</td>\n",
       "      <td>13.6453</td>\n",
       "    </tr>\n",
       "    <tr>\n",
       "      <th>693339</th>\n",
       "      <td>693339</td>\n",
       "      <td>14.9057</td>\n",
       "    </tr>\n",
       "    <tr>\n",
       "      <th>693340</th>\n",
       "      <td>693340</td>\n",
       "      <td>3.9532</td>\n",
       "    </tr>\n",
       "    <tr>\n",
       "      <th>693341</th>\n",
       "      <td>693341</td>\n",
       "      <td>216.7773</td>\n",
       "    </tr>\n",
       "    <tr>\n",
       "      <th>693342</th>\n",
       "      <td>693342</td>\n",
       "      <td>5.1996</td>\n",
       "    </tr>\n",
       "    <tr>\n",
       "      <th>693343</th>\n",
       "      <td>693343</td>\n",
       "      <td>13.9582</td>\n",
       "    </tr>\n",
       "    <tr>\n",
       "      <th>693344</th>\n",
       "      <td>693344</td>\n",
       "      <td>21.1941</td>\n",
       "    </tr>\n",
       "    <tr>\n",
       "      <th>693345</th>\n",
       "      <td>693345</td>\n",
       "      <td>13.4669</td>\n",
       "    </tr>\n",
       "    <tr>\n",
       "      <th>693346</th>\n",
       "      <td>693346</td>\n",
       "      <td>35.7685</td>\n",
       "    </tr>\n",
       "    <tr>\n",
       "      <th>693347</th>\n",
       "      <td>693347</td>\n",
       "      <td>39.6354</td>\n",
       "    </tr>\n",
       "    <tr>\n",
       "      <th>693348</th>\n",
       "      <td>693348</td>\n",
       "      <td>60.7061</td>\n",
       "    </tr>\n",
       "    <tr>\n",
       "      <th>693349</th>\n",
       "      <td>693349</td>\n",
       "      <td>8.9996</td>\n",
       "    </tr>\n",
       "    <tr>\n",
       "      <th>693350</th>\n",
       "      <td>693350</td>\n",
       "      <td>6.9247</td>\n",
       "    </tr>\n",
       "    <tr>\n",
       "      <th>693351</th>\n",
       "      <td>693351</td>\n",
       "      <td>9.4438</td>\n",
       "    </tr>\n",
       "    <tr>\n",
       "      <th>693352</th>\n",
       "      <td>693352</td>\n",
       "      <td>13.1991</td>\n",
       "    </tr>\n",
       "    <tr>\n",
       "      <th>693353</th>\n",
       "      <td>693353</td>\n",
       "      <td>14.2451</td>\n",
       "    </tr>\n",
       "    <tr>\n",
       "      <th>693354</th>\n",
       "      <td>693354</td>\n",
       "      <td>21.7329</td>\n",
       "    </tr>\n",
       "    <tr>\n",
       "      <th>693355</th>\n",
       "      <td>693355</td>\n",
       "      <td>23.1101</td>\n",
       "    </tr>\n",
       "    <tr>\n",
       "      <th>693356</th>\n",
       "      <td>693356</td>\n",
       "      <td>6.2223</td>\n",
       "    </tr>\n",
       "    <tr>\n",
       "      <th>693357</th>\n",
       "      <td>693357</td>\n",
       "      <td>14.7423</td>\n",
       "    </tr>\n",
       "    <tr>\n",
       "      <th>693358</th>\n",
       "      <td>693358</td>\n",
       "      <td>8.6227</td>\n",
       "    </tr>\n",
       "  </tbody>\n",
       "</table>\n",
       "<p>693359 rows × 2 columns</p>\n",
       "</div>"
      ],
      "text/plain": [
       "        test_id    price\n",
       "0             0  11.1292\n",
       "1             1  10.4010\n",
       "2             2  47.2022\n",
       "3             3  14.3170\n",
       "4             4   7.1783\n",
       "5             5   9.6096\n",
       "6             6  10.4254\n",
       "7             7  34.5782\n",
       "8             8  42.0681\n",
       "9             9   8.2536\n",
       "10           10  48.0019\n",
       "11           11  11.3324\n",
       "12           12  46.8363\n",
       "13           13  35.0068\n",
       "14           14  24.8745\n",
       "15           15  10.9800\n",
       "16           16  19.8221\n",
       "17           17  14.9244\n",
       "18           18  37.8032\n",
       "19           19   8.3739\n",
       "20           20   7.6754\n",
       "21           21   8.6794\n",
       "22           22   9.9224\n",
       "23           23  18.9113\n",
       "24           24  38.2508\n",
       "25           25   7.9333\n",
       "26           26  17.9468\n",
       "27           27   8.9456\n",
       "28           28  61.6398\n",
       "29           29   8.7101\n",
       "...         ...      ...\n",
       "693329   693329  25.3743\n",
       "693330   693330  18.1488\n",
       "693331   693331  14.6639\n",
       "693332   693332  37.1074\n",
       "693333   693333  17.0723\n",
       "693334   693334  65.1757\n",
       "693335   693335   6.0845\n",
       "693336   693336  17.2923\n",
       "693337   693337  16.1108\n",
       "693338   693338  13.6453\n",
       "693339   693339  14.9057\n",
       "693340   693340   3.9532\n",
       "693341   693341 216.7773\n",
       "693342   693342   5.1996\n",
       "693343   693343  13.9582\n",
       "693344   693344  21.1941\n",
       "693345   693345  13.4669\n",
       "693346   693346  35.7685\n",
       "693347   693347  39.6354\n",
       "693348   693348  60.7061\n",
       "693349   693349   8.9996\n",
       "693350   693350   6.9247\n",
       "693351   693351   9.4438\n",
       "693352   693352  13.1991\n",
       "693353   693353  14.2451\n",
       "693354   693354  21.7329\n",
       "693355   693355  23.1101\n",
       "693356   693356   6.2223\n",
       "693357   693357  14.7423\n",
       "693358   693358   8.6227\n",
       "\n",
       "[693359 rows x 2 columns]"
      ]
     },
     "execution_count": 56,
     "metadata": {},
     "output_type": "execute_result"
    }
   ],
   "source": [
    "submission['price'] = np.expm1(preds)\n",
    "submission.to_csv('mercari/submission_ridge.csv', index=False)\n",
    "submission"
   ]
  }
 ],
 "metadata": {
  "kernelspec": {
   "display_name": "Python [default]",
   "language": "python",
   "name": "python3"
  },
  "language_info": {
   "codemirror_mode": {
    "name": "ipython",
    "version": 3
   },
   "file_extension": ".py",
   "mimetype": "text/x-python",
   "name": "python",
   "nbconvert_exporter": "python",
   "pygments_lexer": "ipython3",
   "version": "3.5.5"
  }
 },
 "nbformat": 4,
 "nbformat_minor": 2
}
