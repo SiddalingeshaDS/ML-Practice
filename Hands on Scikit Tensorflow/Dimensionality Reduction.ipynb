{
 "cells": [
  {
   "cell_type": "markdown",
   "metadata": {},
   "source": [
    "## Dimensionality Reduction"
   ]
  },
  {
   "cell_type": "code",
   "execution_count": 1,
   "metadata": {
    "collapsed": true
   },
   "outputs": [],
   "source": [
    "# numpy svd function to obtain all principal components\n",
    "import numpy as np\n",
    "\n",
    "def get_first_two_pc(X):\n",
    "    X_centered = X - X.mean(axis=0)\n",
    "    U, s, Vt = np.linalg.svd(X_centered)\n",
    "    c1 = Vt.T[:, 0]\n",
    "    c2 = Vt.T[:, 1]\n",
    "    return (c1, c2)"
   ]
  }
 ],
 "metadata": {
  "kernelspec": {
   "display_name": "Python [default]",
   "language": "python",
   "name": "python3"
  },
  "language_info": {
   "codemirror_mode": {
    "name": "ipython",
    "version": 3
   },
   "file_extension": ".py",
   "mimetype": "text/x-python",
   "name": "python",
   "nbconvert_exporter": "python",
   "pygments_lexer": "ipython3",
   "version": "3.5.2"
  }
 },
 "nbformat": 4,
 "nbformat_minor": 1
}
