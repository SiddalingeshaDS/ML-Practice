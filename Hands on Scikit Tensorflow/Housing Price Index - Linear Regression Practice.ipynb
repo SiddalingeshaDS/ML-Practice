{
 "cells": [
  {
   "cell_type": "code",
   "execution_count": 1,
   "metadata": {
    "collapsed": true
   },
   "outputs": [],
   "source": [
    "# Data Source: \n",
    "# https://github.com/LearnDataSci/article-resources/tree/master/Housing%20Price%20Index%20Regression\n",
    "\n",
    "# Import the data\n",
    "import pandas as pd\n",
    "\n",
    "housing_price_index = pd.read_csv('datasets/lin_reg/monthly-hpi.csv')\n",
    "unemployment = pd.read_csv('datasets/lin_reg/unemployment-macro.csv')\n",
    "federal_funds = pd.read_csv('datasets/lin_reg/fed_funds.csv')\n",
    "shiller = pd.read_csv('datasets/lin_reg/shiller.csv')\n",
    "gross_domestic_product = pd.read_csv('datasets/lin_reg/gdp.csv')"
   ]
  },
  {
   "cell_type": "code",
   "execution_count": 6,
   "metadata": {
    "collapsed": false
   },
   "outputs": [],
   "source": [
    "# merge the data\n",
    "df = shiller.merge(housing_price_index, on='date')\\\n",
    "                .merge(unemployment, on='date')\\\n",
    "                .merge(federal_funds, on='date')\\\n",
    "                .merge(gross_domestic_product, on='date')"
   ]
  },
  {
   "cell_type": "code",
   "execution_count": 28,
   "metadata": {
    "collapsed": false
   },
   "outputs": [
    {
     "data": {
      "text/html": [
       "<div>\n",
       "<style scoped>\n",
       "    .dataframe tbody tr th:only-of-type {\n",
       "        vertical-align: middle;\n",
       "    }\n",
       "\n",
       "    .dataframe tbody tr th {\n",
       "        vertical-align: top;\n",
       "    }\n",
       "\n",
       "    .dataframe thead th {\n",
       "        text-align: right;\n",
       "    }\n",
       "</style>\n",
       "<table border=\"1\" class=\"dataframe\">\n",
       "  <thead>\n",
       "    <tr style=\"text-align: right;\">\n",
       "      <th></th>\n",
       "      <th>sp500</th>\n",
       "      <th>consumer_price_index</th>\n",
       "      <th>long_interest_rate</th>\n",
       "      <th>housing_price_index</th>\n",
       "      <th>total_unemployed</th>\n",
       "      <th>more_than_15_weeks</th>\n",
       "      <th>not_in_labor_searched_for_work</th>\n",
       "      <th>multi_jobs</th>\n",
       "      <th>leavers</th>\n",
       "      <th>losers</th>\n",
       "      <th>federal_funds_rate</th>\n",
       "      <th>total_expenditures</th>\n",
       "      <th>labor_force_pr</th>\n",
       "      <th>producer_price_index</th>\n",
       "      <th>gross_domestic_product</th>\n",
       "    </tr>\n",
       "  </thead>\n",
       "  <tbody>\n",
       "    <tr>\n",
       "      <th>count</th>\n",
       "      <td>23.000000</td>\n",
       "      <td>23.000000</td>\n",
       "      <td>23.00000</td>\n",
       "      <td>23.000000</td>\n",
       "      <td>23.000000</td>\n",
       "      <td>23.000000</td>\n",
       "      <td>23.000000</td>\n",
       "      <td>23.000000</td>\n",
       "      <td>23.000000</td>\n",
       "      <td>23.000000</td>\n",
       "      <td>23.000000</td>\n",
       "      <td>23.000000</td>\n",
       "      <td>23.000000</td>\n",
       "      <td>23.000000</td>\n",
       "      <td>23.000000</td>\n",
       "    </tr>\n",
       "    <tr>\n",
       "      <th>mean</th>\n",
       "      <td>1697.955652</td>\n",
       "      <td>232.821739</td>\n",
       "      <td>2.26913</td>\n",
       "      <td>204.955652</td>\n",
       "      <td>13.004348</td>\n",
       "      <td>5602.521739</td>\n",
       "      <td>2317.173913</td>\n",
       "      <td>7088.217391</td>\n",
       "      <td>8.495652</td>\n",
       "      <td>52.917391</td>\n",
       "      <td>0.145217</td>\n",
       "      <td>5914.082609</td>\n",
       "      <td>63.265217</td>\n",
       "      <td>198.421739</td>\n",
       "      <td>15795.756522</td>\n",
       "    </tr>\n",
       "    <tr>\n",
       "      <th>std</th>\n",
       "      <td>322.596751</td>\n",
       "      <td>5.405947</td>\n",
       "      <td>0.54516</td>\n",
       "      <td>19.364036</td>\n",
       "      <td>2.267052</td>\n",
       "      <td>1801.301143</td>\n",
       "      <td>294.338187</td>\n",
       "      <td>248.798742</td>\n",
       "      <td>1.316496</td>\n",
       "      <td>4.059854</td>\n",
       "      <td>0.093121</td>\n",
       "      <td>176.572817</td>\n",
       "      <td>0.561337</td>\n",
       "      <td>7.786875</td>\n",
       "      <td>571.226411</td>\n",
       "    </tr>\n",
       "    <tr>\n",
       "      <th>min</th>\n",
       "      <td>1207.220000</td>\n",
       "      <td>220.220000</td>\n",
       "      <td>1.50000</td>\n",
       "      <td>179.130000</td>\n",
       "      <td>9.700000</td>\n",
       "      <td>3175.000000</td>\n",
       "      <td>1715.000000</td>\n",
       "      <td>6816.000000</td>\n",
       "      <td>6.500000</td>\n",
       "      <td>47.600000</td>\n",
       "      <td>0.070000</td>\n",
       "      <td>5745.400000</td>\n",
       "      <td>62.500000</td>\n",
       "      <td>182.600000</td>\n",
       "      <td>14881.300000</td>\n",
       "    </tr>\n",
       "    <tr>\n",
       "      <th>25%</th>\n",
       "      <td>1373.105000</td>\n",
       "      <td>229.595000</td>\n",
       "      <td>1.89500</td>\n",
       "      <td>187.840000</td>\n",
       "      <td>11.050000</td>\n",
       "      <td>3912.000000</td>\n",
       "      <td>2137.500000</td>\n",
       "      <td>6895.500000</td>\n",
       "      <td>7.500000</td>\n",
       "      <td>49.200000</td>\n",
       "      <td>0.090000</td>\n",
       "      <td>5773.600000</td>\n",
       "      <td>62.800000</td>\n",
       "      <td>192.350000</td>\n",
       "      <td>15371.600000</td>\n",
       "    </tr>\n",
       "    <tr>\n",
       "      <th>50%</th>\n",
       "      <td>1720.030000</td>\n",
       "      <td>233.600000</td>\n",
       "      <td>2.09000</td>\n",
       "      <td>205.440000</td>\n",
       "      <td>13.600000</td>\n",
       "      <td>5807.000000</td>\n",
       "      <td>2347.000000</td>\n",
       "      <td>7007.000000</td>\n",
       "      <td>8.200000</td>\n",
       "      <td>53.600000</td>\n",
       "      <td>0.120000</td>\n",
       "      <td>5841.400000</td>\n",
       "      <td>62.900000</td>\n",
       "      <td>202.500000</td>\n",
       "      <td>15747.000000</td>\n",
       "    </tr>\n",
       "    <tr>\n",
       "      <th>75%</th>\n",
       "      <td>1998.955000</td>\n",
       "      <td>237.250000</td>\n",
       "      <td>2.60000</td>\n",
       "      <td>218.645000</td>\n",
       "      <td>14.700000</td>\n",
       "      <td>7027.500000</td>\n",
       "      <td>2497.500000</td>\n",
       "      <td>7308.000000</td>\n",
       "      <td>9.700000</td>\n",
       "      <td>55.500000</td>\n",
       "      <td>0.155000</td>\n",
       "      <td>5970.850000</td>\n",
       "      <td>63.700000</td>\n",
       "      <td>203.600000</td>\n",
       "      <td>16321.600000</td>\n",
       "    </tr>\n",
       "    <tr>\n",
       "      <th>max</th>\n",
       "      <td>2148.900000</td>\n",
       "      <td>240.650000</td>\n",
       "      <td>3.46000</td>\n",
       "      <td>241.590000</td>\n",
       "      <td>16.200000</td>\n",
       "      <td>8393.000000</td>\n",
       "      <td>2809.000000</td>\n",
       "      <td>7577.000000</td>\n",
       "      <td>10.900000</td>\n",
       "      <td>60.100000</td>\n",
       "      <td>0.390000</td>\n",
       "      <td>6307.500000</td>\n",
       "      <td>64.200000</td>\n",
       "      <td>208.300000</td>\n",
       "      <td>16727.000000</td>\n",
       "    </tr>\n",
       "  </tbody>\n",
       "</table>\n",
       "</div>"
      ],
      "text/plain": [
       "             sp500  consumer_price_index  long_interest_rate  \\\n",
       "count    23.000000             23.000000            23.00000   \n",
       "mean   1697.955652            232.821739             2.26913   \n",
       "std     322.596751              5.405947             0.54516   \n",
       "min    1207.220000            220.220000             1.50000   \n",
       "25%    1373.105000            229.595000             1.89500   \n",
       "50%    1720.030000            233.600000             2.09000   \n",
       "75%    1998.955000            237.250000             2.60000   \n",
       "max    2148.900000            240.650000             3.46000   \n",
       "\n",
       "       housing_price_index  total_unemployed  more_than_15_weeks  \\\n",
       "count            23.000000         23.000000           23.000000   \n",
       "mean            204.955652         13.004348         5602.521739   \n",
       "std              19.364036          2.267052         1801.301143   \n",
       "min             179.130000          9.700000         3175.000000   \n",
       "25%             187.840000         11.050000         3912.000000   \n",
       "50%             205.440000         13.600000         5807.000000   \n",
       "75%             218.645000         14.700000         7027.500000   \n",
       "max             241.590000         16.200000         8393.000000   \n",
       "\n",
       "       not_in_labor_searched_for_work   multi_jobs    leavers     losers  \\\n",
       "count                       23.000000    23.000000  23.000000  23.000000   \n",
       "mean                      2317.173913  7088.217391   8.495652  52.917391   \n",
       "std                        294.338187   248.798742   1.316496   4.059854   \n",
       "min                       1715.000000  6816.000000   6.500000  47.600000   \n",
       "25%                       2137.500000  6895.500000   7.500000  49.200000   \n",
       "50%                       2347.000000  7007.000000   8.200000  53.600000   \n",
       "75%                       2497.500000  7308.000000   9.700000  55.500000   \n",
       "max                       2809.000000  7577.000000  10.900000  60.100000   \n",
       "\n",
       "       federal_funds_rate  total_expenditures  labor_force_pr  \\\n",
       "count           23.000000           23.000000       23.000000   \n",
       "mean             0.145217         5914.082609       63.265217   \n",
       "std              0.093121          176.572817        0.561337   \n",
       "min              0.070000         5745.400000       62.500000   \n",
       "25%              0.090000         5773.600000       62.800000   \n",
       "50%              0.120000         5841.400000       62.900000   \n",
       "75%              0.155000         5970.850000       63.700000   \n",
       "max              0.390000         6307.500000       64.200000   \n",
       "\n",
       "       producer_price_index  gross_domestic_product  \n",
       "count             23.000000               23.000000  \n",
       "mean             198.421739            15795.756522  \n",
       "std                7.786875              571.226411  \n",
       "min              182.600000            14881.300000  \n",
       "25%              192.350000            15371.600000  \n",
       "50%              202.500000            15747.000000  \n",
       "75%              203.600000            16321.600000  \n",
       "max              208.300000            16727.000000  "
      ]
     },
     "execution_count": 28,
     "metadata": {},
     "output_type": "execute_result"
    }
   ],
   "source": [
    "df.describe()"
   ]
  },
  {
   "cell_type": "code",
   "execution_count": 7,
   "metadata": {
    "collapsed": false
   },
   "outputs": [
    {
     "data": {
      "text/html": [
       "<div>\n",
       "<style scoped>\n",
       "    .dataframe tbody tr th:only-of-type {\n",
       "        vertical-align: middle;\n",
       "    }\n",
       "\n",
       "    .dataframe tbody tr th {\n",
       "        vertical-align: top;\n",
       "    }\n",
       "\n",
       "    .dataframe thead th {\n",
       "        text-align: right;\n",
       "    }\n",
       "</style>\n",
       "<table border=\"1\" class=\"dataframe\">\n",
       "  <thead>\n",
       "    <tr style=\"text-align: right;\">\n",
       "      <th></th>\n",
       "      <th>date</th>\n",
       "      <th>sp500</th>\n",
       "      <th>consumer_price_index</th>\n",
       "      <th>long_interest_rate</th>\n",
       "      <th>housing_price_index</th>\n",
       "      <th>total_unemployed</th>\n",
       "      <th>more_than_15_weeks</th>\n",
       "      <th>not_in_labor_searched_for_work</th>\n",
       "      <th>multi_jobs</th>\n",
       "      <th>leavers</th>\n",
       "      <th>losers</th>\n",
       "      <th>federal_funds_rate</th>\n",
       "      <th>total_expenditures</th>\n",
       "      <th>labor_force_pr</th>\n",
       "      <th>producer_price_index</th>\n",
       "      <th>gross_domestic_product</th>\n",
       "    </tr>\n",
       "  </thead>\n",
       "  <tbody>\n",
       "    <tr>\n",
       "      <th>0</th>\n",
       "      <td>2011-01-01</td>\n",
       "      <td>1282.62</td>\n",
       "      <td>220.22</td>\n",
       "      <td>3.39</td>\n",
       "      <td>181.35</td>\n",
       "      <td>16.2</td>\n",
       "      <td>8393</td>\n",
       "      <td>2800</td>\n",
       "      <td>6816</td>\n",
       "      <td>6.5</td>\n",
       "      <td>60.1</td>\n",
       "      <td>0.17</td>\n",
       "      <td>5766.7</td>\n",
       "      <td>64.2</td>\n",
       "      <td>192.7</td>\n",
       "      <td>14881.3</td>\n",
       "    </tr>\n",
       "    <tr>\n",
       "      <th>1</th>\n",
       "      <td>2011-04-01</td>\n",
       "      <td>1331.51</td>\n",
       "      <td>224.91</td>\n",
       "      <td>3.46</td>\n",
       "      <td>180.80</td>\n",
       "      <td>16.1</td>\n",
       "      <td>8016</td>\n",
       "      <td>2466</td>\n",
       "      <td>6823</td>\n",
       "      <td>6.8</td>\n",
       "      <td>59.4</td>\n",
       "      <td>0.10</td>\n",
       "      <td>5870.8</td>\n",
       "      <td>64.2</td>\n",
       "      <td>203.1</td>\n",
       "      <td>14989.6</td>\n",
       "    </tr>\n",
       "    <tr>\n",
       "      <th>2</th>\n",
       "      <td>2011-07-01</td>\n",
       "      <td>1325.19</td>\n",
       "      <td>225.92</td>\n",
       "      <td>3.00</td>\n",
       "      <td>184.25</td>\n",
       "      <td>15.9</td>\n",
       "      <td>8177</td>\n",
       "      <td>2785</td>\n",
       "      <td>6850</td>\n",
       "      <td>6.8</td>\n",
       "      <td>59.2</td>\n",
       "      <td>0.07</td>\n",
       "      <td>5802.6</td>\n",
       "      <td>64.0</td>\n",
       "      <td>204.6</td>\n",
       "      <td>15021.1</td>\n",
       "    </tr>\n",
       "    <tr>\n",
       "      <th>3</th>\n",
       "      <td>2011-10-01</td>\n",
       "      <td>1207.22</td>\n",
       "      <td>226.42</td>\n",
       "      <td>2.15</td>\n",
       "      <td>181.51</td>\n",
       "      <td>15.8</td>\n",
       "      <td>7802</td>\n",
       "      <td>2555</td>\n",
       "      <td>6917</td>\n",
       "      <td>8.0</td>\n",
       "      <td>57.9</td>\n",
       "      <td>0.07</td>\n",
       "      <td>5812.9</td>\n",
       "      <td>64.1</td>\n",
       "      <td>201.1</td>\n",
       "      <td>15190.3</td>\n",
       "    </tr>\n",
       "    <tr>\n",
       "      <th>4</th>\n",
       "      <td>2012-01-01</td>\n",
       "      <td>1300.58</td>\n",
       "      <td>226.66</td>\n",
       "      <td>1.97</td>\n",
       "      <td>179.13</td>\n",
       "      <td>15.2</td>\n",
       "      <td>7433</td>\n",
       "      <td>2809</td>\n",
       "      <td>7022</td>\n",
       "      <td>7.4</td>\n",
       "      <td>57.1</td>\n",
       "      <td>0.08</td>\n",
       "      <td>5765.7</td>\n",
       "      <td>63.7</td>\n",
       "      <td>200.7</td>\n",
       "      <td>15291.0</td>\n",
       "    </tr>\n",
       "  </tbody>\n",
       "</table>\n",
       "</div>"
      ],
      "text/plain": [
       "         date    sp500  consumer_price_index  long_interest_rate  \\\n",
       "0  2011-01-01  1282.62                220.22                3.39   \n",
       "1  2011-04-01  1331.51                224.91                3.46   \n",
       "2  2011-07-01  1325.19                225.92                3.00   \n",
       "3  2011-10-01  1207.22                226.42                2.15   \n",
       "4  2012-01-01  1300.58                226.66                1.97   \n",
       "\n",
       "   housing_price_index  total_unemployed  more_than_15_weeks  \\\n",
       "0               181.35              16.2                8393   \n",
       "1               180.80              16.1                8016   \n",
       "2               184.25              15.9                8177   \n",
       "3               181.51              15.8                7802   \n",
       "4               179.13              15.2                7433   \n",
       "\n",
       "   not_in_labor_searched_for_work  multi_jobs  leavers  losers  \\\n",
       "0                            2800        6816      6.5    60.1   \n",
       "1                            2466        6823      6.8    59.4   \n",
       "2                            2785        6850      6.8    59.2   \n",
       "3                            2555        6917      8.0    57.9   \n",
       "4                            2809        7022      7.4    57.1   \n",
       "\n",
       "   federal_funds_rate  total_expenditures  labor_force_pr  \\\n",
       "0                0.17              5766.7            64.2   \n",
       "1                0.10              5870.8            64.2   \n",
       "2                0.07              5802.6            64.0   \n",
       "3                0.07              5812.9            64.1   \n",
       "4                0.08              5765.7            63.7   \n",
       "\n",
       "   producer_price_index  gross_domestic_product  \n",
       "0                 192.7                 14881.3  \n",
       "1                 203.1                 14989.6  \n",
       "2                 204.6                 15021.1  \n",
       "3                 201.1                 15190.3  \n",
       "4                 200.7                 15291.0  "
      ]
     },
     "execution_count": 7,
     "metadata": {},
     "output_type": "execute_result"
    }
   ],
   "source": [
    "df.head()"
   ]
  },
  {
   "cell_type": "code",
   "execution_count": 10,
   "metadata": {
    "collapsed": false
   },
   "outputs": [
    {
     "data": {
      "image/png": "[encoded data removed]",
      "text/plain": [
       "<matplotlib.figure.Figure at 0x1089ea20>"
      ]
     },
     "metadata": {},
     "output_type": "display_data"
    }
   ],
   "source": [
    "%matplotlib inline \n",
    "import matplotlib.pyplot as plt\n",
    "df.hist(bins=50, figsize=(20,15))\n",
    "plt.show()"
   ]
  },
  {
   "cell_type": "code",
   "execution_count": 11,
   "metadata": {
    "collapsed": true
   },
   "outputs": [],
   "source": [
    "from sklearn.model_selection import train_test_split\n",
    "train_set, test_set = train_test_split(df, test_size=0.2, random_state=42)"
   ]
  },
  {
   "cell_type": "code",
   "execution_count": 26,
   "metadata": {
    "collapsed": false
   },
   "outputs": [
    {
     "data": {
      "text/plain": [
       "<matplotlib.axes._subplots.AxesSubplot at 0x12c38198>"
      ]
     },
     "execution_count": 26,
     "metadata": {},
     "output_type": "execute_result"
    },
    {
     "data": {
      "image/png": "[encoded data removed]",
      "text/plain": [
       "<matplotlib.figure.Figure at 0x12c4f2b0>"
      ]
     },
     "metadata": {},
     "output_type": "display_data"
    }
   ],
   "source": [
    "hpi = train_set.copy()\n",
    "hpi.plot(kind=\"scatter\", x=\"total_unemployed\", y=\"housing_price_index\")"
   ]
  },
  {
   "cell_type": "code",
   "execution_count": 24,
   "metadata": {
    "collapsed": false
   },
   "outputs": [
    {
     "data": {
      "text/plain": [
       "housing_price_index               1.000000\n",
       "gross_domestic_product            0.979993\n",
       "sp500                             0.958636\n",
       "consumer_price_index              0.951964\n",
       "leavers                           0.903704\n",
       "total_expenditures                0.883244\n",
       "multi_jobs                        0.837061\n",
       "federal_funds_rate                0.655638\n",
       "long_interest_rate               -0.321747\n",
       "producer_price_index             -0.704424\n",
       "labor_force_pr                   -0.891661\n",
       "not_in_labor_searched_for_work   -0.896459\n",
       "losers                           -0.900134\n",
       "total_unemployed                 -0.973341\n",
       "more_than_15_weeks               -0.973944\n",
       "Name: housing_price_index, dtype: float64"
      ]
     },
     "execution_count": 24,
     "metadata": {},
     "output_type": "execute_result"
    }
   ],
   "source": [
    "# Pearson's r: correlation coefficient between every pair of attributes\n",
    "corr_matrix = hpi.corr()\n",
    "corr_matrix[\"housing_price_index\"].sort_values(ascending=False)"
   ]
  },
  {
   "cell_type": "code",
   "execution_count": 27,
   "metadata": {
    "collapsed": false
   },
   "outputs": [
    {
     "name": "stderr",
     "output_type": "stream",
     "text": [
      "C:\\Users\\Sid\\AppData\\Local\\Continuum\\Anaconda3\\lib\\site-packages\\ipykernel\\__main__.py:5: FutureWarning: 'pandas.tools.plotting.scatter_matrix' is deprecated, import 'pandas.plotting.scatter_matrix' instead.\n"
     ]
    },
    {
     "data": {
      "text/plain": [
       "array([[<matplotlib.axes._subplots.AxesSubplot object at 0x0000000012CC7CC0>,\n",
       "        <matplotlib.axes._subplots.AxesSubplot object at 0x0000000012D640F0>,\n",
       "        <matplotlib.axes._subplots.AxesSubplot object at 0x0000000012DA1128>,\n",
       "        <matplotlib.axes._subplots.AxesSubplot object at 0x0000000012DCFB00>,\n",
       "        <matplotlib.axes._subplots.AxesSubplot object at 0x0000000012CD4550>],\n",
       "       [<matplotlib.axes._subplots.AxesSubplot object at 0x0000000012E16780>,\n",
       "        <matplotlib.axes._subplots.AxesSubplot object at 0x000000001370CEB8>,\n",
       "        <matplotlib.axes._subplots.AxesSubplot object at 0x0000000012EB4518>,\n",
       "        <matplotlib.axes._subplots.AxesSubplot object at 0x00000000136FFF98>,\n",
       "        <matplotlib.axes._subplots.AxesSubplot object at 0x00000000136A54E0>],\n",
       "       [<matplotlib.axes._subplots.AxesSubplot object at 0x0000000012EEEB00>,\n",
       "        <matplotlib.axes._subplots.AxesSubplot object at 0x0000000012ACC8D0>,\n",
       "        <matplotlib.axes._subplots.AxesSubplot object at 0x0000000012AC3668>,\n",
       "        <matplotlib.axes._subplots.AxesSubplot object at 0x0000000012AA2F98>,\n",
       "        <matplotlib.axes._subplots.AxesSubplot object at 0x0000000012A7EBA8>],\n",
       "       [<matplotlib.axes._subplots.AxesSubplot object at 0x0000000012F5DA20>,\n",
       "        <matplotlib.axes._subplots.AxesSubplot object at 0x000000001376AEF0>,\n",
       "        <matplotlib.axes._subplots.AxesSubplot object at 0x0000000012F7D630>,\n",
       "        <matplotlib.axes._subplots.AxesSubplot object at 0x0000000012F9E978>,\n",
       "        <matplotlib.axes._subplots.AxesSubplot object at 0x000000001373C630>],\n",
       "       [<matplotlib.axes._subplots.AxesSubplot object at 0x0000000013796048>,\n",
       "        <matplotlib.axes._subplots.AxesSubplot object at 0x00000000137165F8>,\n",
       "        <matplotlib.axes._subplots.AxesSubplot object at 0x0000000012E44940>,\n",
       "        <matplotlib.axes._subplots.AxesSubplot object at 0x00000000137D71D0>,\n",
       "        <matplotlib.axes._subplots.AxesSubplot object at 0x0000000012B142E8>]],\n",
       "      dtype=object)"
      ]
     },
     "execution_count": 27,
     "metadata": {},
     "output_type": "execute_result"
    },
    {
     "data": {
      "image/png": "[encoded data removed]",
      "text/plain": [
       "<matplotlib.figure.Figure at 0x12cf7940>"
      ]
     },
     "metadata": {},
     "output_type": "display_data"
    }
   ],
   "source": [
    "# Using pandas scatter_matrix func to plot every numerical attribute with every other\n",
    "from pandas.tools.plotting import scatter_matrix\n",
    "\n",
    "attributes = [\"housing_price_index\", \"gross_domestic_product\", \"sp500\", \"consumer_price_index\", \"leavers\"]\n",
    "scatter_matrix(hpi[attributes], figsize=(12,8))"
   ]
  },
  {
   "cell_type": "code",
   "execution_count": 30,
   "metadata": {
    "collapsed": false
   },
   "outputs": [
    {
     "data": {
      "text/plain": [
       "LinearRegression(copy_X=True, fit_intercept=True, n_jobs=1, normalize=False)"
      ]
     },
     "execution_count": 30,
     "metadata": {},
     "output_type": "execute_result"
    }
   ],
   "source": [
    "from sklearn.linear_model import LinearRegression\n",
    "\n",
    "lin_reg = LinearRegression()\n",
    "hpi_labels = hpi[\"housing_price_index\"]\n",
    "hpi_prepared = hpi.drop([\"housing_price_index\", \"date\"], axis=1)\n",
    "lin_reg.fit(hpi_prepared, hpi_labels)"
   ]
  },
  {
   "cell_type": "code",
   "execution_count": 32,
   "metadata": {
    "collapsed": false
   },
   "outputs": [
    {
     "name": "stdout",
     "output_type": "stream",
     "text": [
      "Predictions: [204.13445153 181.65352611 209.79400518 184.47491238 182.93251558]\n"
     ]
    }
   ],
   "source": [
    "# Trying the model on some data\n",
    "some_data_prepared = hpi_prepared.iloc[:5]\n",
    "some_labels = hpi_labels.iloc[:5]\n",
    "print(\"Predictions:\", lin_reg.predict(some_data_prepared))"
   ]
  },
  {
   "cell_type": "code",
   "execution_count": 33,
   "metadata": {
    "collapsed": false
   },
   "outputs": [
    {
     "name": "stdout",
     "output_type": "stream",
     "text": [
      "Labels: [204.04, 180.8, 210.0, 185.29, 184.25]\n"
     ]
    }
   ],
   "source": [
    "print(\"Labels:\", list(some_labels))"
   ]
  },
  {
   "cell_type": "code",
   "execution_count": 36,
   "metadata": {
    "collapsed": false
   },
   "outputs": [
    {
     "data": {
      "text/plain": [
       "0.9214508391859999"
      ]
     },
     "execution_count": 36,
     "metadata": {},
     "output_type": "execute_result"
    }
   ],
   "source": [
    "# Measure the regression model's RMSE\n",
    "import numpy as np\n",
    "from sklearn.metrics import mean_squared_error\n",
    "hpi_predictions = lin_reg.predict(hpi_prepared)\n",
    "lin_mse = mean_squared_error(hpi_labels, hpi_predictions)\n",
    "lin_rmse = np.sqrt(lin_mse)\n",
    "lin_rmse"
   ]
  },
  {
   "cell_type": "code",
   "execution_count": 39,
   "metadata": {
    "collapsed": true
   },
   "outputs": [],
   "source": [
    "# Print the scores\n",
    "def display_scores(scores):\n",
    "    print(\"Scores:\", scores)\n",
    "    print(\"Mean:\", scores.mean())\n",
    "    print(\"Standard deviation:\", scores.std())"
   ]
  },
  {
   "cell_type": "code",
   "execution_count": 40,
   "metadata": {
    "collapsed": false
   },
   "outputs": [
    {
     "name": "stdout",
     "output_type": "stream",
     "text": [
      "Scores: [11.95238588 12.05749998  2.81436996  6.37521929  4.18320866  4.58871275\n",
      "  2.46579002  5.33199829  6.48882422  7.27768589]\n",
      "Mean: 6.353569494376467\n",
      "Standard deviation: 3.182198570035134\n"
     ]
    }
   ],
   "source": [
    "# Compute the cross_validation_scores for LinearRegression\n",
    "from sklearn.model_selection import cross_val_score\n",
    "lin_scores = cross_val_score(lin_reg, hpi_prepared, hpi_labels,\n",
    "                            scoring=\"neg_mean_squared_error\", cv=10)\n",
    "lin_rmse_scores = np.sqrt(-lin_scores)\n",
    "display_scores(lin_rmse_scores)"
   ]
  },
  {
   "cell_type": "code",
   "execution_count": 42,
   "metadata": {
    "collapsed": false
   },
   "outputs": [
    {
     "data": {
      "text/plain": [
       "['models\\\\housing\\\\hpi_lin_reg.pkl']"
      ]
     },
     "execution_count": 42,
     "metadata": {},
     "output_type": "execute_result"
    }
   ],
   "source": [
    "# Saving the model\n",
    "import os\n",
    "from sklearn.externals import joblib\n",
    "\n",
    "models_path = os.path.join(\"models\", \"housing\")\n",
    "\n",
    "if not os.path.isdir(models_path):\n",
    "    os.makedirs(models_path)\n",
    "\n",
    "joblib.dump(lin_reg, os.path.join(models_path,\"hpi_lin_reg.pkl\"))"
   ]
  },
  {
   "cell_type": "code",
   "execution_count": 43,
   "metadata": {
    "collapsed": false
   },
   "outputs": [
    {
     "data": {
      "text/plain": [
       "4.1666815965411885"
      ]
     },
     "execution_count": 43,
     "metadata": {},
     "output_type": "execute_result"
    }
   ],
   "source": [
    "# Evaluate on test\n",
    "X_test_prepared = test_set.drop([\"housing_price_index\", \"date\"], axis=1)\n",
    "y_test = test_set[\"housing_price_index\"].copy()\n",
    "\n",
    "final_predictions = lin_reg.predict(X_test_prepared)\n",
    "\n",
    "final_mse = mean_squared_error(y_test, final_predictions)\n",
    "final_rmse = np.sqrt(final_mse)\n",
    "final_rmse"
   ]
  }
 ],
 "metadata": {
  "anaconda-cloud": {},
  "kernelspec": {
   "display_name": "Python [default]",
   "language": "python",
   "name": "python3"
  },
  "language_info": {
   "codemirror_mode": {
    "name": "ipython",
    "version": 3
   },
   "file_extension": ".py",
   "mimetype": "text/x-python",
   "name": "python",
   "nbconvert_exporter": "python",
   "pygments_lexer": "ipython3",
   "version": "3.5.2"
  }
 },
 "nbformat": 4,
 "nbformat_minor": 1
}
